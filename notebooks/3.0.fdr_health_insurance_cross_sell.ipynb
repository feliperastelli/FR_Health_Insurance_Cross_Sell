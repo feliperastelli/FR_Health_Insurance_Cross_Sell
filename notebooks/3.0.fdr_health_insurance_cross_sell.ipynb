{
 "cells": [
  {
   "cell_type": "markdown",
   "id": "b148299c",
   "metadata": {},
   "source": [
    "# 0.0 IMPORTS"
   ]
  },
  {
   "cell_type": "code",
   "execution_count": 1,
   "id": "b3402d7f",
   "metadata": {
    "ExecuteTime": {
     "end_time": "2022-02-07T01:19:08.364062Z",
     "start_time": "2022-02-07T01:19:04.520669Z"
    }
   },
   "outputs": [],
   "source": [
    "# data manipulation\n",
    "import pandas                      as pd\n",
    "import numpy                       as np\n",
    "import pandas.io.sql               as psql\n",
    "import psycopg2                    as pg\n",
    "\n",
    "# data visualization\n",
    "import seaborn                     as sns\n",
    "import matplotlib.pyplot           as plt\n",
    "import scikitplot                  as skplt\n",
    "import mpl_toolkits.mplot3d.axes3d as axes3d\n",
    "from matplotlib                    import gridspec\n",
    "from scipy                         import stats\n",
    "from tabulate                      import tabulate\n",
    "import requests\n",
    "\n",
    "# data preparation\n",
    "from sklearn               import preprocessing as pp\n",
    "\n",
    "# feature selection\n",
    "from boruta                import BorutaPy\n",
    "\n",
    "# metrics\n",
    "from sklearn               import model_selection as ms\n",
    "from sklearn               import metrics         as m\n",
    "\n",
    "# machine learning models\n",
    "from sklearn.ensemble        import RandomForestRegressor\n",
    "from sklearn                 import ensemble as en\n",
    "from sklearn                 import neighbors as nh\n",
    "from sklearn                 import linear_model as lm\n",
    "from sklearn.ensemble        import RandomForestClassifier, GradientBoostingClassifier\n",
    "from lightgbm                import LGBMClassifier\n",
    "from sklearn.model_selection import StratifiedKFold , train_test_split\n",
    "\n",
    "\n",
    "# stetical\n",
    "import warnings\n",
    "from IPython.display       import Image\n",
    "from IPython.core.display  import HTML\n",
    "\n",
    "# others\n",
    "import pickle\n",
    "import os\n",
    "import random                as rd"
   ]
  },
  {
   "cell_type": "markdown",
   "id": "3adeb5e3",
   "metadata": {},
   "source": [
    "## 0.1 Helper Functions"
   ]
  },
  {
   "cell_type": "markdown",
   "id": "b626f88f",
   "metadata": {},
   "source": [
    "### Settings"
   ]
  },
  {
   "cell_type": "code",
   "execution_count": 2,
   "id": "79678686",
   "metadata": {
    "ExecuteTime": {
     "end_time": "2022-02-07T01:19:20.273426Z",
     "start_time": "2022-02-07T01:19:20.252582Z"
    },
    "code_folding": [
     0
    ]
   },
   "outputs": [
    {
     "name": "stdout",
     "output_type": "stream",
     "text": [
      "Populating the interactive namespace from numpy and matplotlib\n"
     ]
    },
    {
     "data": {
      "text/html": [
       "<style>.container { width:100% !important; }</style>"
      ],
      "text/plain": [
       "<IPython.core.display.HTML object>"
      ]
     },
     "metadata": {},
     "output_type": "display_data"
    }
   ],
   "source": [
    "def jupyter_settings():\n",
    "    %matplotlib inline\n",
    "    %pylab inline\n",
    "    plt.style.use( 'bmh' )\n",
    "    plt.rcParams['figure.figsize'] = [25, 12]\n",
    "    plt.rcParams['font.size'] = 24\n",
    "    \n",
    "    display( HTML( '<style>.container { width:100% !important; }</style>') )\n",
    "    pd.options.display.max_columns = None\n",
    "    pd.options.display.max_rows = None\n",
    "    pd.set_option( 'display.expand_frame_repr', False )\n",
    "  \n",
    "    sns.set()\n",
    "    \n",
    "jupyter_settings()\n",
    "    \n",
    "warnings.filterwarnings(\"ignore\")\n",
    "pd.options.mode.chained_assignment = None  # default='warn'"
   ]
  },
  {
   "cell_type": "markdown",
   "id": "5d051c2a",
   "metadata": {},
   "source": [
    "### Metrics"
   ]
  },
  {
   "cell_type": "code",
   "execution_count": 3,
   "id": "49c591de",
   "metadata": {
    "ExecuteTime": {
     "end_time": "2022-02-07T01:19:21.924210Z",
     "start_time": "2022-02-07T01:19:21.918203Z"
    },
    "code_folding": [
     0,
     16
    ]
   },
   "outputs": [],
   "source": [
    "def precision_at_k( data, k=2000 ):\n",
    "    \n",
    "    # sort clients by propensity score    \n",
    "    data = data.sort_values('propensity_score', ascending=False)\n",
    "        \n",
    "    # Reset Index\n",
    "    data = data.reset_index( drop=True )\n",
    "\n",
    "    # Create Ranking Order\n",
    "    data['ranking'] = data.index + 1 \n",
    "\n",
    "    # Calc precision at k\n",
    "    data['precision_at_k'] = data['response'].cumsum() /data['ranking']\n",
    "   \n",
    "    return data.loc[k, 'precision_at_k']\n",
    "\n",
    "def recall_at_k( data, k=2000 ):\n",
    "    \n",
    "    # sort clients by propensity score\n",
    "    data = data.sort_values('propensity_score', ascending=False)\n",
    "    \n",
    "    # Reset Index\n",
    "    data = data.reset_index( drop=True )\n",
    "\n",
    "    # Create Ranking Order\n",
    "    data['ranking'] = data.index + 1 \n",
    "\n",
    "    data['recall_at_k'] = data['response'].cumsum() / data['response'].sum()\n",
    "          \n",
    "    return data.loc[k, 'recall_at_k']"
   ]
  },
  {
   "cell_type": "markdown",
   "id": "9b11b6f1",
   "metadata": {},
   "source": [
    "### Plots"
   ]
  },
  {
   "cell_type": "code",
   "execution_count": 4,
   "id": "83350283",
   "metadata": {
    "ExecuteTime": {
     "end_time": "2022-02-07T01:19:23.158867Z",
     "start_time": "2022-02-07T01:19:23.147272Z"
    },
    "code_folding": [
     0,
     9,
     21
    ]
   },
   "outputs": [],
   "source": [
    "def graphic_percentage(ax,total):\n",
    "    for p in ax.patches:\n",
    "        height = p.get_height()\n",
    "        ax.text(p.get_x()+p.get_width()/2.,\n",
    "                height,\n",
    "                '{:1.2f}'.format(height/total*100),\n",
    "                ha=\"center\") \n",
    "    show\n",
    "\n",
    "def cramer_v( x, y):\n",
    "    cm = pd.crosstab(x, y).to_numpy()\n",
    "    n = cm.sum()\n",
    "    r,k = cm.shape\n",
    "    \n",
    "    chi2 = stats.chi2_contingency(cm)[0]\n",
    "    chi2corr = max(0 , chi2 - (k-1)*(r-1)/(n-1))\n",
    "    kcorr = k - (k-1)**2/(n-1)\n",
    "    rcorr = r - (r-1)**2/(n-1)\n",
    "   \n",
    "    return np.sqrt( (chi2corr/n) / (min( kcorr-1, rcorr-1 ) ) )  \n",
    "\n",
    "def cramers_v_df(categorical_features):\n",
    "\n",
    "    rows= []\n",
    "\n",
    "    for var1 in categorical_features:\n",
    "\n",
    "        col = []\n",
    "\n",
    "        for var2 in categorical_features:\n",
    "            cramers =cramer_v(categorical_features[var1], categorical_features[var2]) \n",
    "            col.append(round(cramers,3)) \n",
    "\n",
    "        rows.append(col)\n",
    "\n",
    "    cramers_results = np.array(rows)\n",
    "    df = pd.DataFrame(cramers_results, columns=categorical_features.columns, index=categorical_features.columns)\n",
    "\n",
    "    return df"
   ]
  },
  {
   "cell_type": "markdown",
   "id": "c8cbfc87",
   "metadata": {},
   "source": [
    "### Models"
   ]
  },
  {
   "cell_type": "code",
   "execution_count": 5,
   "id": "4a19a695",
   "metadata": {
    "ExecuteTime": {
     "end_time": "2022-02-07T01:19:24.604172Z",
     "start_time": "2022-02-07T01:19:24.588591Z"
    },
    "code_folding": [
     0,
     57
    ]
   },
   "outputs": [],
   "source": [
    "def cross_validation(model, model_name, x_train, y_train, num_folds , k=2000):\n",
    "    # generate k-fold   \n",
    "    kfold = StratifiedKFold(n_splits=num_folds, shuffle=True)\n",
    "    \n",
    "    # save k-fold's prediction\n",
    "    precisionatk_list_cv = []\n",
    "    recallatk_list_cv = []\n",
    "\n",
    "    for train_cv, val_cv in kfold.split(x_train, y_train):\n",
    "    \n",
    "        # get fold\n",
    "        x_train_fold = x_train.iloc[train_cv]\n",
    "        y_train_fold = y_train.iloc[train_cv]\n",
    "\n",
    "        x_val_fold = x_train.iloc[val_cv]\n",
    "        y_val_fold = y_train.iloc[val_cv]\n",
    "\n",
    "        # model definition\n",
    "        model_fold = model\n",
    "\n",
    "        # training model\n",
    "        model_fold.fit(x_train_fold, y_train_fold)\n",
    "\n",
    "        # prediction\n",
    "        y_pred_fold = model_fold.predict_proba(x_val_fold)\n",
    "\n",
    "        ## precision @K and recall @K\n",
    "        # size of true values from target dataset\n",
    "        k_size = k\n",
    "\n",
    "        # add y_val to data to create score metrics \n",
    "        x_val_fold['response'] = y_val_fold.copy()\n",
    "\n",
    "        # propensity score\n",
    "        x_val_fold['propensity_score'] = y_pred_fold[:, 1].tolist()\n",
    "\n",
    "        # compute precision at k\n",
    "        precisionatk_cv = precision_at_k(x_val_fold, k=k_size)\n",
    "        precisionatk_list_cv.append(precisionatk_cv)\n",
    "        \n",
    "        # compute recall at k\n",
    "        recallatk_cv = recall_at_k(x_val_fold, k=k_size)\n",
    "        recallatk_list_cv.append(recallatk_cv)\n",
    "        \n",
    "    \n",
    "    precision_at_k_cv_mean = np.mean(precisionatk_list_cv)\n",
    "    precision_at_k_cv_std = np.std(precisionatk_list_cv)\n",
    "    \n",
    "    recall_at_k_cv_mean = np.mean(recallatk_list_cv)\n",
    "    recall_at_k_cv_std = np.std(recallatk_list_cv)\n",
    "         \n",
    "    return y_pred_fold, pd.DataFrame({'Model': model_name , \n",
    "                                      'Precision@k_CV': precision_at_k_cv_mean,\n",
    "                                      'CV_STD': precision_at_k_cv_std,\n",
    "                                      'Recall@k_CV': recall_at_k_cv_mean,\n",
    "                                      'CV_STD_Recall': recall_at_k_cv_std}, index=[0])\n",
    "\n",
    "def get_size(model):\n",
    "    \n",
    "    # save model in a pickle object\n",
    "    obj = pickle.dumps(model)\n",
    "    \n",
    "    # get the size in bytes of this object\n",
    "    bytes_size = sys.getsizeof(obj)\n",
    "    \n",
    "    # convert to megabytes\n",
    "    model_size = bytes_size / (1024*1024)\n",
    "    \n",
    "    return model_size"
   ]
  },
  {
   "cell_type": "markdown",
   "id": "cd1c597a",
   "metadata": {},
   "source": [
    "## 0.2 Loading Data"
   ]
  },
  {
   "cell_type": "markdown",
   "id": "9d286036",
   "metadata": {
    "heading_collapsed": true
   },
   "source": [
    "### 0.2.1 Loading from DB (Train/Test Data)"
   ]
  },
  {
   "cell_type": "code",
   "execution_count": null,
   "id": "ba09af16",
   "metadata": {
    "ExecuteTime": {
     "end_time": "2022-02-06T16:34:51.263859Z",
     "start_time": "2022-02-06T16:34:51.123428Z"
    },
    "code_folding": [],
    "hidden": true
   },
   "outputs": [],
   "source": [
    "## Credentials\n",
    "# host ='host\n",
    "# port = port\n",
    "# database ='db\n",
    "# user ='user\n",
    "# pwd ='pwd\n",
    "\n",
    "## Conn creation\n",
    "# conn = pg.connect( host=host, \n",
    "#                    port=port,\n",
    "#                    database=database,\n",
    "#                    user=user, \n",
    "#                    password=pwd)\n",
    "\n",
    "## Script to view db schema/tables\n",
    "\n",
    "#SELECT nspname\n",
    "#FROM pg_catalog.pg_namespace pn \n",
    "\n",
    "#select tablename\n",
    "#from pg_catalog.pg_tables\n",
    "#where schemaname = 'pa004\n",
    "\n",
    "# query_tables = \"\"\"\n",
    "#     SELECT *\n",
    "#     FROM pa004.users u LEFT JOIN pa004.vehicle   v  ON ( u.id = v.id )\n",
    "#                        LEFT JOIN pa004.insurance i  ON ( u.id = i.id  )\n",
    "#     \"\"\"\n",
    "\n",
    "# df_raw = pd.read_sql( query_tables, conn )\n",
    "# conn.close()"
   ]
  },
  {
   "cell_type": "markdown",
   "id": "ed96a6e7",
   "metadata": {},
   "source": [
    "### 0.2.2 Loading from CSV (Train/Test Data) "
   ]
  },
  {
   "cell_type": "code",
   "execution_count": 6,
   "id": "c00d90b9",
   "metadata": {
    "ExecuteTime": {
     "end_time": "2022-02-07T01:19:27.648740Z",
     "start_time": "2022-02-07T01:19:26.228886Z"
    },
    "scrolled": true
   },
   "outputs": [
    {
     "data": {
      "text/html": [
       "<div>\n",
       "<style scoped>\n",
       "    .dataframe tbody tr th:only-of-type {\n",
       "        vertical-align: middle;\n",
       "    }\n",
       "\n",
       "    .dataframe tbody tr th {\n",
       "        vertical-align: top;\n",
       "    }\n",
       "\n",
       "    .dataframe thead th {\n",
       "        text-align: right;\n",
       "    }\n",
       "</style>\n",
       "<table border=\"1\" class=\"dataframe\">\n",
       "  <thead>\n",
       "    <tr style=\"text-align: right;\">\n",
       "      <th></th>\n",
       "      <th>id</th>\n",
       "      <th>gender</th>\n",
       "      <th>age</th>\n",
       "      <th>region_code</th>\n",
       "      <th>policy_sales_channel</th>\n",
       "      <th>driving_license</th>\n",
       "      <th>vehicle_age</th>\n",
       "      <th>vehicle_damage</th>\n",
       "      <th>previously_insured</th>\n",
       "      <th>annual_premium</th>\n",
       "      <th>vintage</th>\n",
       "      <th>response</th>\n",
       "    </tr>\n",
       "  </thead>\n",
       "  <tbody>\n",
       "    <tr>\n",
       "      <th>59775</th>\n",
       "      <td>96269</td>\n",
       "      <td>Male</td>\n",
       "      <td>32</td>\n",
       "      <td>15.0</td>\n",
       "      <td>152.0</td>\n",
       "      <td>1</td>\n",
       "      <td>&lt; 1 Year</td>\n",
       "      <td>No</td>\n",
       "      <td>1</td>\n",
       "      <td>37445.0</td>\n",
       "      <td>248</td>\n",
       "      <td>0</td>\n",
       "    </tr>\n",
       "    <tr>\n",
       "      <th>17251</th>\n",
       "      <td>138055</td>\n",
       "      <td>Female</td>\n",
       "      <td>20</td>\n",
       "      <td>46.0</td>\n",
       "      <td>160.0</td>\n",
       "      <td>1</td>\n",
       "      <td>&lt; 1 Year</td>\n",
       "      <td>No</td>\n",
       "      <td>1</td>\n",
       "      <td>32216.0</td>\n",
       "      <td>38</td>\n",
       "      <td>0</td>\n",
       "    </tr>\n",
       "    <tr>\n",
       "      <th>345058</th>\n",
       "      <td>91507</td>\n",
       "      <td>Female</td>\n",
       "      <td>23</td>\n",
       "      <td>30.0</td>\n",
       "      <td>152.0</td>\n",
       "      <td>1</td>\n",
       "      <td>&lt; 1 Year</td>\n",
       "      <td>No</td>\n",
       "      <td>1</td>\n",
       "      <td>28937.0</td>\n",
       "      <td>58</td>\n",
       "      <td>0</td>\n",
       "    </tr>\n",
       "    <tr>\n",
       "      <th>74915</th>\n",
       "      <td>216283</td>\n",
       "      <td>Male</td>\n",
       "      <td>22</td>\n",
       "      <td>18.0</td>\n",
       "      <td>152.0</td>\n",
       "      <td>1</td>\n",
       "      <td>&lt; 1 Year</td>\n",
       "      <td>No</td>\n",
       "      <td>1</td>\n",
       "      <td>46406.0</td>\n",
       "      <td>86</td>\n",
       "      <td>0</td>\n",
       "    </tr>\n",
       "    <tr>\n",
       "      <th>290719</th>\n",
       "      <td>36272</td>\n",
       "      <td>Male</td>\n",
       "      <td>37</td>\n",
       "      <td>28.0</td>\n",
       "      <td>40.0</td>\n",
       "      <td>1</td>\n",
       "      <td>1-2 Year</td>\n",
       "      <td>No</td>\n",
       "      <td>1</td>\n",
       "      <td>49195.0</td>\n",
       "      <td>262</td>\n",
       "      <td>0</td>\n",
       "    </tr>\n",
       "  </tbody>\n",
       "</table>\n",
       "</div>"
      ],
      "text/plain": [
       "            id  gender  age  region_code  policy_sales_channel  driving_license vehicle_age vehicle_damage  previously_insured  annual_premium  vintage  response\n",
       "59775    96269    Male   32         15.0                 152.0                1    < 1 Year             No                   1         37445.0      248         0\n",
       "17251   138055  Female   20         46.0                 160.0                1    < 1 Year             No                   1         32216.0       38         0\n",
       "345058   91507  Female   23         30.0                 152.0                1    < 1 Year             No                   1         28937.0       58         0\n",
       "74915   216283    Male   22         18.0                 152.0                1    < 1 Year             No                   1         46406.0       86         0\n",
       "290719   36272    Male   37         28.0                  40.0                1    1-2 Year             No                   1         49195.0      262         0"
      ]
     },
     "execution_count": 6,
     "metadata": {},
     "output_type": "execute_result"
    }
   ],
   "source": [
    "df_raw = pd.read_csv( '../data/train.csv', sep=';' )\n",
    "df_raw = df_raw.drop(columns=['id.1', 'id.2'])\n",
    "df_raw.sample(5)"
   ]
  },
  {
   "cell_type": "markdown",
   "id": "ca687775",
   "metadata": {},
   "source": [
    "### 0.2.3 Loading from CSV (Production Data from Kaggle) "
   ]
  },
  {
   "cell_type": "code",
   "execution_count": 7,
   "id": "fcd17458",
   "metadata": {
    "ExecuteTime": {
     "end_time": "2022-02-07T01:19:28.182442Z",
     "start_time": "2022-02-07T01:19:27.651269Z"
    }
   },
   "outputs": [
    {
     "data": {
      "text/html": [
       "<div>\n",
       "<style scoped>\n",
       "    .dataframe tbody tr th:only-of-type {\n",
       "        vertical-align: middle;\n",
       "    }\n",
       "\n",
       "    .dataframe tbody tr th {\n",
       "        vertical-align: top;\n",
       "    }\n",
       "\n",
       "    .dataframe thead th {\n",
       "        text-align: right;\n",
       "    }\n",
       "</style>\n",
       "<table border=\"1\" class=\"dataframe\">\n",
       "  <thead>\n",
       "    <tr style=\"text-align: right;\">\n",
       "      <th></th>\n",
       "      <th>id</th>\n",
       "      <th>Gender</th>\n",
       "      <th>Age</th>\n",
       "      <th>Driving_License</th>\n",
       "      <th>Region_Code</th>\n",
       "      <th>Previously_Insured</th>\n",
       "      <th>Vehicle_Age</th>\n",
       "      <th>Vehicle_Damage</th>\n",
       "      <th>Annual_Premium</th>\n",
       "      <th>Policy_Sales_Channel</th>\n",
       "      <th>Vintage</th>\n",
       "    </tr>\n",
       "  </thead>\n",
       "  <tbody>\n",
       "    <tr>\n",
       "      <th>76450</th>\n",
       "      <td>457560</td>\n",
       "      <td>Female</td>\n",
       "      <td>62</td>\n",
       "      <td>1</td>\n",
       "      <td>28.0</td>\n",
       "      <td>0</td>\n",
       "      <td>1-2 Year</td>\n",
       "      <td>Yes</td>\n",
       "      <td>33653.0</td>\n",
       "      <td>26.0</td>\n",
       "      <td>26</td>\n",
       "    </tr>\n",
       "    <tr>\n",
       "      <th>56306</th>\n",
       "      <td>437416</td>\n",
       "      <td>Male</td>\n",
       "      <td>36</td>\n",
       "      <td>1</td>\n",
       "      <td>24.0</td>\n",
       "      <td>0</td>\n",
       "      <td>1-2 Year</td>\n",
       "      <td>Yes</td>\n",
       "      <td>43938.0</td>\n",
       "      <td>152.0</td>\n",
       "      <td>109</td>\n",
       "    </tr>\n",
       "    <tr>\n",
       "      <th>63786</th>\n",
       "      <td>444896</td>\n",
       "      <td>Female</td>\n",
       "      <td>35</td>\n",
       "      <td>1</td>\n",
       "      <td>28.0</td>\n",
       "      <td>0</td>\n",
       "      <td>1-2 Year</td>\n",
       "      <td>Yes</td>\n",
       "      <td>35906.0</td>\n",
       "      <td>26.0</td>\n",
       "      <td>48</td>\n",
       "    </tr>\n",
       "    <tr>\n",
       "      <th>87668</th>\n",
       "      <td>468778</td>\n",
       "      <td>Male</td>\n",
       "      <td>23</td>\n",
       "      <td>1</td>\n",
       "      <td>25.0</td>\n",
       "      <td>1</td>\n",
       "      <td>&lt; 1 Year</td>\n",
       "      <td>No</td>\n",
       "      <td>30053.0</td>\n",
       "      <td>160.0</td>\n",
       "      <td>12</td>\n",
       "    </tr>\n",
       "    <tr>\n",
       "      <th>32099</th>\n",
       "      <td>413209</td>\n",
       "      <td>Male</td>\n",
       "      <td>51</td>\n",
       "      <td>1</td>\n",
       "      <td>28.0</td>\n",
       "      <td>0</td>\n",
       "      <td>&gt; 2 Years</td>\n",
       "      <td>Yes</td>\n",
       "      <td>30353.0</td>\n",
       "      <td>155.0</td>\n",
       "      <td>94</td>\n",
       "    </tr>\n",
       "  </tbody>\n",
       "</table>\n",
       "</div>"
      ],
      "text/plain": [
       "           id  Gender  Age  Driving_License  Region_Code  Previously_Insured Vehicle_Age Vehicle_Damage  Annual_Premium  Policy_Sales_Channel  Vintage\n",
       "76450  457560  Female   62                1         28.0                   0    1-2 Year            Yes         33653.0                  26.0       26\n",
       "56306  437416    Male   36                1         24.0                   0    1-2 Year            Yes         43938.0                 152.0      109\n",
       "63786  444896  Female   35                1         28.0                   0    1-2 Year            Yes         35906.0                  26.0       48\n",
       "87668  468778    Male   23                1         25.0                   1    < 1 Year             No         30053.0                 160.0       12\n",
       "32099  413209    Male   51                1         28.0                   0   > 2 Years            Yes         30353.0                 155.0       94"
      ]
     },
     "execution_count": 7,
     "metadata": {},
     "output_type": "execute_result"
    }
   ],
   "source": [
    "df_prod = pd.read_csv( '../data/test.csv')\n",
    "df_prod.sample(5)"
   ]
  },
  {
   "cell_type": "markdown",
   "id": "f4133950",
   "metadata": {},
   "source": [
    "# 1.0 DATA DESCRIPTION"
   ]
  },
  {
   "cell_type": "markdown",
   "id": "dbb744ad",
   "metadata": {},
   "source": [
    "## 1.1 Split Data into Train & Test (80/20)"
   ]
  },
  {
   "cell_type": "code",
   "execution_count": 8,
   "id": "e6f38945",
   "metadata": {
    "ExecuteTime": {
     "end_time": "2022-02-07T01:19:31.209696Z",
     "start_time": "2022-02-07T01:19:31.186212Z"
    }
   },
   "outputs": [],
   "source": [
    "# Divide into X and y\n",
    "X_raw = df_raw.drop('response', axis=1)\n",
    "y_raw = df_raw['response'].copy()"
   ]
  },
  {
   "cell_type": "code",
   "execution_count": 9,
   "id": "3c22166c",
   "metadata": {
    "ExecuteTime": {
     "end_time": "2022-02-07T01:19:32.860925Z",
     "start_time": "2022-02-07T01:19:32.755220Z"
    }
   },
   "outputs": [],
   "source": [
    "# Split into Train & Test\n",
    "x_df1, x_test, y_df1, y_test = train_test_split(X_raw, y_raw, test_size=0.15, random_state=42)"
   ]
  },
  {
   "cell_type": "code",
   "execution_count": 10,
   "id": "984eccc6",
   "metadata": {
    "ExecuteTime": {
     "end_time": "2022-02-07T01:19:36.018590Z",
     "start_time": "2022-02-07T01:19:35.961449Z"
    },
    "code_folding": []
   },
   "outputs": [],
   "source": [
    "# Concatenate X and y of Train dataset\n",
    "df1 = pd.concat([x_df1, y_df1], axis=1).reset_index(drop=True)"
   ]
  },
  {
   "cell_type": "markdown",
   "id": "eb06c029",
   "metadata": {},
   "source": [
    "## 1.1 Data Dimension"
   ]
  },
  {
   "cell_type": "code",
   "execution_count": 11,
   "id": "aa365dd6",
   "metadata": {
    "ExecuteTime": {
     "end_time": "2022-02-07T01:19:37.362696Z",
     "start_time": "2022-02-07T01:19:37.356093Z"
    }
   },
   "outputs": [
    {
     "name": "stdout",
     "output_type": "stream",
     "text": [
      "Train/Validation Data:\n",
      "\n",
      "Number of Rows: 323942\n",
      "Number of Columns: 12\n",
      "\n",
      "Test Data:\n",
      "\n",
      "Number of Rows: 57167\n",
      "Number of Columns: 11\n",
      "\n",
      "Production Data:\n",
      "\n",
      "Number of Rows: 127037\n",
      "Number of Columns: 11\n"
     ]
    }
   ],
   "source": [
    "print('Train/Validation Data:')\n",
    "print('\\nNumber of Rows: {}'.format(df1.shape[0]))\n",
    "print('Number of Columns: {}'.format(df1.shape[1]))\n",
    "\n",
    "print('\\nTest Data:')\n",
    "print('\\nNumber of Rows: {}'.format(x_test.shape[0]))\n",
    "print('Number of Columns: {}'.format(x_test.shape[1]))\n",
    "\n",
    "print('\\nProduction Data:')\n",
    "print('\\nNumber of Rows: {}'.format(df_prod.shape[0]))\n",
    "print('Number of Columns: {}'.format(df_prod.shape[1]))"
   ]
  },
  {
   "cell_type": "markdown",
   "id": "de9e8b1e",
   "metadata": {},
   "source": [
    "## 1.2 Data Dtypes"
   ]
  },
  {
   "cell_type": "code",
   "execution_count": 12,
   "id": "477d9203",
   "metadata": {
    "ExecuteTime": {
     "end_time": "2022-02-07T01:19:46.511644Z",
     "start_time": "2022-02-07T01:19:46.501279Z"
    },
    "scrolled": true
   },
   "outputs": [
    {
     "data": {
      "text/plain": [
       "id                        int64\n",
       "gender                   object\n",
       "age                       int64\n",
       "region_code             float64\n",
       "policy_sales_channel    float64\n",
       "driving_license           int64\n",
       "vehicle_age              object\n",
       "vehicle_damage           object\n",
       "previously_insured        int64\n",
       "annual_premium          float64\n",
       "vintage                   int64\n",
       "response                  int64\n",
       "dtype: object"
      ]
     },
     "execution_count": 12,
     "metadata": {},
     "output_type": "execute_result"
    }
   ],
   "source": [
    "df1.dtypes"
   ]
  },
  {
   "cell_type": "markdown",
   "id": "addf5ca1",
   "metadata": {},
   "source": [
    "## 1.3 Change Types"
   ]
  },
  {
   "cell_type": "code",
   "execution_count": 13,
   "id": "93f3ba79",
   "metadata": {
    "ExecuteTime": {
     "end_time": "2022-02-07T01:19:48.327183Z",
     "start_time": "2022-02-07T01:19:48.319677Z"
    },
    "hide_input": false
   },
   "outputs": [],
   "source": [
    "df1['policy_sales_channel'] = df1['policy_sales_channel'].astype(int)\n",
    "df1['region_code'] = df1['region_code'].astype(int)"
   ]
  },
  {
   "cell_type": "markdown",
   "id": "586cef50",
   "metadata": {},
   "source": [
    "## 1.4 Check Uniques"
   ]
  },
  {
   "cell_type": "code",
   "execution_count": 128,
   "id": "41026a42",
   "metadata": {
    "ExecuteTime": {
     "end_time": "2022-02-07T01:43:07.686917Z",
     "start_time": "2022-02-07T01:43:07.591466Z"
    }
   },
   "outputs": [
    {
     "name": "stdout",
     "output_type": "stream",
     "text": [
      "Column - previously_insured: [0 1]\n",
      "\n",
      "Column - annual_premium: [33805. 31734. 35092. ... 55070. 18177. 65088.]\n",
      "\n",
      "Column - response: [0 1]\n",
      "\n",
      "Column - gender: ['Female' 'Male']\n",
      "\n",
      "Column - policy_sales_channel: [ 26 152 154 124  52  13 160  55 122  15  61  30 157 156 151  25 163  19\n",
      "   4  31 120   1   8 158  11  24 153 136 125  39  94 155  98  23   7 139\n",
      " 147 127  90   3  35  29  44  16  12 138  14  42  32 121 140 132  60  65\n",
      "  59 103  91  88 129  45 145  22 137 102 108 134 109 150 111  18 100  37\n",
      " 116 148   9  56 101  75  10  21 131  53  86  81 128 135  36 106  96  64\n",
      "  40 159 133 113  69  20 115  78  58  47 118 104 117 110  27 107  17  54\n",
      "  99 119  46 146  62  92  73  63  93 114  49  66   6  97  50 130  82 112\n",
      "  89  48  67  51  74  38  80  28  83  87  95  70  41 105 126   2  34  57\n",
      "  79  68  33  76  71 123 149  84]\n",
      "\n",
      "Column - driving_license: [1 0]\n",
      "\n",
      "Column - vehicle_age: ['1-2 Year' '< 1 Year' '> 2 Years']\n",
      "\n",
      "Column - vehicle_damage: ['Yes' 'No']\n"
     ]
    }
   ],
   "source": [
    "print('Column - previously_insured: {}'.format(df1['previously_insured'].unique()))\n",
    "print('\\nColumn - annual_premium: {}'.format(df1['annual_premium'].unique()))\n",
    "print('\\nColumn - response: {}'.format(df1['response'].unique()))\n",
    "print('\\nColumn - gender: {}'.format(df1['gender'].unique()))\n",
    "print('\\nColumn - policy_sales_channel: {}'.format(df1['policy_sales_channel'].unique()))\n",
    "print('\\nColumn - driving_license: {}'.format(df1['driving_license'].unique()))\n",
    "print('\\nColumn - vehicle_age: {}'.format(df1['vehicle_age'].unique()))\n",
    "print('\\nColumn - vehicle_damage: {}'.format(df1['vehicle_damage'].unique()))"
   ]
  },
  {
   "cell_type": "markdown",
   "id": "fae5d347",
   "metadata": {},
   "source": [
    "## 1.5 Check NA"
   ]
  },
  {
   "cell_type": "code",
   "execution_count": 129,
   "id": "470e3467",
   "metadata": {
    "ExecuteTime": {
     "end_time": "2022-02-07T01:43:10.038140Z",
     "start_time": "2022-02-07T01:43:09.970939Z"
    }
   },
   "outputs": [
    {
     "data": {
      "text/plain": [
       "id                      0\n",
       "gender                  0\n",
       "age                     0\n",
       "region_code             0\n",
       "policy_sales_channel    0\n",
       "driving_license         0\n",
       "vehicle_age             0\n",
       "vehicle_damage          0\n",
       "previously_insured      0\n",
       "annual_premium          0\n",
       "vintage                 0\n",
       "response                0\n",
       "dtype: int64"
      ]
     },
     "execution_count": 129,
     "metadata": {},
     "output_type": "execute_result"
    }
   ],
   "source": [
    "df1.isna().sum()"
   ]
  },
  {
   "cell_type": "markdown",
   "id": "72fe31d3",
   "metadata": {},
   "source": [
    "## 1.6 Check Data Balance"
   ]
  },
  {
   "cell_type": "code",
   "execution_count": 14,
   "id": "3e231155",
   "metadata": {
    "ExecuteTime": {
     "end_time": "2022-02-07T01:20:02.111936Z",
     "start_time": "2022-02-07T01:20:02.099258Z"
    }
   },
   "outputs": [
    {
     "data": {
      "text/plain": [
       "0    0.877407\n",
       "1    0.122593\n",
       "Name: response, dtype: float64"
      ]
     },
     "execution_count": 14,
     "metadata": {},
     "output_type": "execute_result"
    }
   ],
   "source": [
    "df1['response'].value_counts(normalize = True)"
   ]
  },
  {
   "cell_type": "markdown",
   "id": "e411806d",
   "metadata": {},
   "source": [
    "## 1.7 Descriptive Statistical"
   ]
  },
  {
   "cell_type": "code",
   "execution_count": 130,
   "id": "3d07f2ff",
   "metadata": {
    "ExecuteTime": {
     "end_time": "2022-02-07T01:43:13.007136Z",
     "start_time": "2022-02-07T01:43:12.974189Z"
    }
   },
   "outputs": [],
   "source": [
    "num_attributes = df1[['age','annual_premium','vintage']]\n",
    "cat_attributes = df1[['gender','driving_license','vehicle_age','vehicle_damage','previously_insured','response']]"
   ]
  },
  {
   "cell_type": "markdown",
   "id": "f2a90d92",
   "metadata": {},
   "source": [
    "### 1.5.1 Numerical Attributes"
   ]
  },
  {
   "cell_type": "code",
   "execution_count": 131,
   "id": "7e92e47e",
   "metadata": {
    "ExecuteTime": {
     "end_time": "2022-02-07T01:43:15.219968Z",
     "start_time": "2022-02-07T01:43:14.896296Z"
    },
    "scrolled": true
   },
   "outputs": [
    {
     "data": {
      "text/html": [
       "<div>\n",
       "<style scoped>\n",
       "    .dataframe tbody tr th:only-of-type {\n",
       "        vertical-align: middle;\n",
       "    }\n",
       "\n",
       "    .dataframe tbody tr th {\n",
       "        vertical-align: top;\n",
       "    }\n",
       "\n",
       "    .dataframe thead th {\n",
       "        text-align: right;\n",
       "    }\n",
       "</style>\n",
       "<table border=\"1\" class=\"dataframe\">\n",
       "  <thead>\n",
       "    <tr style=\"text-align: right;\">\n",
       "      <th></th>\n",
       "      <th>attributes</th>\n",
       "      <th>min</th>\n",
       "      <th>max</th>\n",
       "      <th>range</th>\n",
       "      <th>mean</th>\n",
       "      <th>median</th>\n",
       "      <th>std</th>\n",
       "      <th>skew</th>\n",
       "      <th>kurtosis</th>\n",
       "    </tr>\n",
       "  </thead>\n",
       "  <tbody>\n",
       "    <tr>\n",
       "      <th>0</th>\n",
       "      <td>age</td>\n",
       "      <td>20.0</td>\n",
       "      <td>85.0</td>\n",
       "      <td>65.0</td>\n",
       "      <td>38.838094</td>\n",
       "      <td>36.0</td>\n",
       "      <td>15.514214</td>\n",
       "      <td>0.670969</td>\n",
       "      <td>-0.568335</td>\n",
       "    </tr>\n",
       "    <tr>\n",
       "      <th>1</th>\n",
       "      <td>annual_premium</td>\n",
       "      <td>2630.0</td>\n",
       "      <td>540165.0</td>\n",
       "      <td>537535.0</td>\n",
       "      <td>30600.975767</td>\n",
       "      <td>31690.5</td>\n",
       "      <td>17275.590456</td>\n",
       "      <td>1.883702</td>\n",
       "      <td>36.743892</td>\n",
       "    </tr>\n",
       "    <tr>\n",
       "      <th>2</th>\n",
       "      <td>vintage</td>\n",
       "      <td>10.0</td>\n",
       "      <td>299.0</td>\n",
       "      <td>289.0</td>\n",
       "      <td>154.286459</td>\n",
       "      <td>154.0</td>\n",
       "      <td>83.667358</td>\n",
       "      <td>0.004201</td>\n",
       "      <td>-1.200592</td>\n",
       "    </tr>\n",
       "  </tbody>\n",
       "</table>\n",
       "</div>"
      ],
      "text/plain": [
       "       attributes     min       max     range          mean   median           std      skew   kurtosis\n",
       "0             age    20.0      85.0      65.0     38.838094     36.0     15.514214  0.670969  -0.568335\n",
       "1  annual_premium  2630.0  540165.0  537535.0  30600.975767  31690.5  17275.590456  1.883702  36.743892\n",
       "2         vintage    10.0     299.0     289.0    154.286459    154.0     83.667358  0.004201  -1.200592"
      ]
     },
     "execution_count": 131,
     "metadata": {},
     "output_type": "execute_result"
    }
   ],
   "source": [
    "# Central Tendency - Mean and Median\n",
    "ct1 = pd.DataFrame( num_attributes.apply( np.mean)).T\n",
    "ct2 = pd.DataFrame( num_attributes.apply( np.median)).T\n",
    "\n",
    "# Dispersion - Std, Min, Max, Range, Skew, Kurtosis\n",
    "d1 = pd.DataFrame( num_attributes.apply( np.std)).T\n",
    "d2 = pd.DataFrame( num_attributes.apply( min)).T\n",
    "d3 = pd.DataFrame( num_attributes.apply( max)).T\n",
    "d4 = pd.DataFrame( num_attributes.apply( lambda x: x.max() - x.min())).T\n",
    "d5 = pd.DataFrame( num_attributes.apply( lambda x: x.skew())).T\n",
    "d6 = pd.DataFrame( num_attributes.apply( lambda x: x.kurtosis())).T\n",
    "\n",
    "# concatenate\n",
    "m = pd.concat( [d2,d3,d4,ct1,ct2,d1,d5,d6]).T.reset_index()\n",
    "m.columns = ['attributes','min','max','range','mean','median','std','skew','kurtosis']\n",
    "m"
   ]
  },
  {
   "cell_type": "code",
   "execution_count": 132,
   "id": "61cf8ee5",
   "metadata": {
    "ExecuteTime": {
     "end_time": "2022-02-07T01:43:21.838616Z",
     "start_time": "2022-02-07T01:43:16.788953Z"
    }
   },
   "outputs": [
    {
     "data": {
      "image/png": "[encoded data removed]",
      "text/plain": [
       "<Figure size 576x720 with 3 Axes>"
      ]
     },
     "metadata": {},
     "output_type": "display_data"
    }
   ],
   "source": [
    "fig, axs = plt.subplots(3 ,figsize = (8,10))\n",
    "sns.distplot(df1['age'], ax=axs[0], bins = 6);\n",
    "sns.distplot(df1[df1['annual_premium'] < 100000]['annual_premium'], ax=axs[1]);\n",
    "sns.distplot(df1['vintage'], ax=axs[2]);"
   ]
  },
  {
   "cell_type": "markdown",
   "id": "7b2fe1ab",
   "metadata": {},
   "source": [
    "### 1.6.2 Categorical Attributes"
   ]
  },
  {
   "cell_type": "code",
   "execution_count": 133,
   "id": "e528d5e6",
   "metadata": {
    "ExecuteTime": {
     "end_time": "2022-02-07T01:43:23.374858Z",
     "start_time": "2022-02-07T01:43:21.841244Z"
    },
    "scrolled": false
   },
   "outputs": [
    {
     "data": {
      "image/png": "[encoded data removed]",
      "text/plain": [
       "<Figure size 1800x864 with 6 Axes>"
      ]
     },
     "metadata": {},
     "output_type": "display_data"
    }
   ],
   "source": [
    "plt.subplot(3, 2, 1)\n",
    "sns.countplot(df1['gender']);\n",
    "\n",
    "plt.subplot(3, 2, 2)\n",
    "sns.countplot(df1['driving_license']);\n",
    "\n",
    "plt.subplot(3, 2, 3)\n",
    "sns.countplot(df1['vehicle_age']);\n",
    "\n",
    "plt.subplot(3, 2, 4)\n",
    "sns.countplot(df1['vehicle_damage']);\n",
    "\n",
    "plt.subplot(3, 2, 5)\n",
    "sns.countplot(df1['previously_insured']);\n",
    "\n",
    "plt.subplot(3, 2, 6)\n",
    "sns.countplot(df1['response']);"
   ]
  },
  {
   "cell_type": "markdown",
   "id": "1bdf46d4",
   "metadata": {},
   "source": [
    "# 2.0 FEATURE ENGINEERING"
   ]
  },
  {
   "cell_type": "code",
   "execution_count": 15,
   "id": "7fd94a49",
   "metadata": {
    "ExecuteTime": {
     "end_time": "2022-02-07T01:20:07.447834Z",
     "start_time": "2022-02-07T01:20:07.435221Z"
    }
   },
   "outputs": [],
   "source": [
    "df2 = df1.copy()"
   ]
  },
  {
   "cell_type": "markdown",
   "id": "d16a128c",
   "metadata": {},
   "source": [
    "## 2.1 Mind Map Hypothesis"
   ]
  },
  {
   "cell_type": "code",
   "execution_count": null,
   "id": "32de933e",
   "metadata": {
    "ExecuteTime": {
     "end_time": "2022-02-06T16:35:00.048359Z",
     "start_time": "2022-02-06T16:34:59.862016Z"
    }
   },
   "outputs": [],
   "source": [
    "Image( '/home/felipe_rastelli/repositorios/pa004_health_insurance_cross_sell/health_insurance_cross-sell/Images/insurance_mindmap.png')"
   ]
  },
  {
   "cell_type": "markdown",
   "id": "0b3a00cc",
   "metadata": {
    "heading_collapsed": true
   },
   "source": [
    "## 2.2 Hypothesis Creation"
   ]
  },
  {
   "cell_type": "markdown",
   "id": "2bd620e9",
   "metadata": {
    "ExecuteTime": {
     "end_time": "2021-12-11T17:14:30.098750Z",
     "start_time": "2021-12-11T17:14:30.096075Z"
    },
    "code_folding": [],
    "heading_collapsed": true,
    "hidden": true
   },
   "source": [
    "### 2.2.1 Custumer Hypothesis "
   ]
  },
  {
   "cell_type": "markdown",
   "id": "ab7ae363",
   "metadata": {
    "hidden": true
   },
   "source": [
    "**1**. Insurance for women is more expensive on average than for men\n",
    "\n",
    "**2**. Older customers are more interested in \"cross-selling\"\n",
    "\n",
    "**3**. From the age of 60 onwards, annual health insurance becomes more expensive\n",
    "\n",
    "**4**. The region is directly related to the interest or not in car insurance"
   ]
  },
  {
   "cell_type": "markdown",
   "id": "e2293e45",
   "metadata": {
    "heading_collapsed": true,
    "hidden": true
   },
   "source": [
    "### 2.2.2 Vehicle Hypothesis "
   ]
  },
  {
   "cell_type": "markdown",
   "id": "a9d06890",
   "metadata": {
    "ExecuteTime": {
     "end_time": "2021-12-11T17:18:04.842319Z",
     "start_time": "2021-12-11T17:18:04.837520Z"
    },
    "hidden": true
   },
   "source": [
    "**1**. Customers with already damaged vehicles are more interested in having insurance\n",
    "\n",
    "**2**. Most customers with newer cars already have insurance"
   ]
  },
  {
   "cell_type": "markdown",
   "id": "21080b13",
   "metadata": {
    "heading_collapsed": true,
    "hidden": true
   },
   "source": [
    "### 2.2.3 Insurance Hypothesis "
   ]
  },
  {
   "cell_type": "markdown",
   "id": "3bcc40f8",
   "metadata": {
    "hidden": true
   },
   "source": [
    "**1**. Customers who already have car insurance, are not interested in exchanging\n",
    "\n",
    "**2**. Customers who pay more for insurance annually have less interest in purchasing another"
   ]
  },
  {
   "cell_type": "markdown",
   "id": "d7b799c8",
   "metadata": {},
   "source": [
    "## 2.3 Feature Engineering"
   ]
  },
  {
   "cell_type": "code",
   "execution_count": 16,
   "id": "5995954c",
   "metadata": {
    "ExecuteTime": {
     "end_time": "2022-02-07T01:20:09.332617Z",
     "start_time": "2022-02-07T01:20:09.115438Z"
    }
   },
   "outputs": [],
   "source": [
    "# Change feature vehicle age \n",
    "df2['vehicle_age'] = df2['vehicle_age'].apply( lambda x: 'over_2_years' if x == '> 2 Years' else 'between_1_2_year' if x == '1-2 Year' else 'below_1_year')\n",
    "\n",
    "# Change feature vehicle damage\n",
    "df2['vehicle_damage'] = df2['vehicle_damage'].apply( lambda x: 1 if x == 'Yes' else 0)"
   ]
  },
  {
   "cell_type": "markdown",
   "id": "a33c3119",
   "metadata": {},
   "source": [
    "# 3.0 DATA FILTERING"
   ]
  },
  {
   "cell_type": "code",
   "execution_count": 17,
   "id": "3b8f161c",
   "metadata": {
    "ExecuteTime": {
     "end_time": "2022-02-07T01:20:13.292122Z",
     "start_time": "2022-02-07T01:20:13.274934Z"
    }
   },
   "outputs": [],
   "source": [
    "df3 = df2.copy()"
   ]
  },
  {
   "cell_type": "markdown",
   "id": "122dee3e",
   "metadata": {},
   "source": [
    "# 4.0 EXPLORATORY DATA ANALYSIS"
   ]
  },
  {
   "cell_type": "code",
   "execution_count": 18,
   "id": "baf3f031",
   "metadata": {
    "ExecuteTime": {
     "end_time": "2022-02-07T01:20:14.828081Z",
     "start_time": "2022-02-07T01:20:14.802902Z"
    }
   },
   "outputs": [],
   "source": [
    "df4 = df3.copy()"
   ]
  },
  {
   "cell_type": "markdown",
   "id": "6d60391b",
   "metadata": {
    "heading_collapsed": true
   },
   "source": [
    "## 3.1 Univariate Analysis"
   ]
  },
  {
   "cell_type": "markdown",
   "id": "c8a454b8",
   "metadata": {
    "hidden": true
   },
   "source": [
    "### 3.1.1 Response Variable"
   ]
  },
  {
   "cell_type": "code",
   "execution_count": null,
   "id": "b6d4206c",
   "metadata": {
    "ExecuteTime": {
     "end_time": "2022-02-06T16:35:01.024056Z",
     "start_time": "2022-02-06T16:35:00.533597Z"
    },
    "hidden": true
   },
   "outputs": [],
   "source": [
    "ax = sns.countplot(df3['response'])\n",
    "total = len(df3['response'])\n",
    "graphic_percentage(ax,total)"
   ]
  },
  {
   "cell_type": "markdown",
   "id": "aec1132f",
   "metadata": {
    "hidden": true
   },
   "source": [
    "### 3.1.2 Numerical Variable"
   ]
  },
  {
   "cell_type": "code",
   "execution_count": null,
   "id": "b4b0779d",
   "metadata": {
    "ExecuteTime": {
     "end_time": "2022-02-06T16:35:02.295908Z",
     "start_time": "2022-02-06T16:35:01.026729Z"
    },
    "hidden": true
   },
   "outputs": [],
   "source": [
    "num_attributes.hist(bins=25);"
   ]
  },
  {
   "cell_type": "markdown",
   "id": "ebca4d50",
   "metadata": {
    "hidden": true
   },
   "source": [
    "### 3.1.3 Categorical Variable"
   ]
  },
  {
   "cell_type": "code",
   "execution_count": null,
   "id": "c9f15eac",
   "metadata": {
    "ExecuteTime": {
     "end_time": "2022-02-06T16:35:06.471835Z",
     "start_time": "2022-02-06T16:35:02.298761Z"
    },
    "hidden": true
   },
   "outputs": [],
   "source": [
    "# gender\n",
    "plt.subplot(3,2,1)\n",
    "sns.countplot(df3['gender']);\n",
    "\n",
    "plt.subplot(3,2,2)\n",
    "sns.kdeplot( df3[df3['gender'] == 'Male']['response'], label='Male',shade=True);\n",
    "sns.kdeplot( df3[df3['gender'] == 'Female']['response'], label='Female',shade=True);\n",
    "\n",
    "# vehicle_age\n",
    "plt.subplot(3,2,3)\n",
    "sns.countplot(df3['vehicle_age']);\n",
    "\n",
    "plt.subplot(3,2,4)\n",
    "sns.kdeplot( df3[df3['vehicle_age'] == 'over_2_years']['response'], label='over_2_years',shade=True);\n",
    "sns.kdeplot( df3[df3['vehicle_age'] == 'between_1_2_year']['response'], label='between_1_2_year',shade=True);\n",
    "sns.kdeplot( df3[df3['vehicle_age'] == 'more_2_year']['response'], label='more_2_year',shade=True);\n",
    "\n",
    "# vehicle_damage\n",
    "plt.subplot(3,2,5)\n",
    "sns.countplot(df3['vehicle_damage']);\n",
    "\n",
    "plt.subplot(3,2,6)\n",
    "sns.kdeplot( df3[df3['vehicle_damage'] == 0]['response'], label='No',shade=True);\n",
    "sns.kdeplot( df3[df3['vehicle_damage'] == 1]['response'], label='Yes',shade=True);\n"
   ]
  },
  {
   "cell_type": "markdown",
   "id": "979b5d07",
   "metadata": {
    "heading_collapsed": true
   },
   "source": [
    "## 3.2 Bivariate Analysis"
   ]
  },
  {
   "cell_type": "markdown",
   "id": "52834156",
   "metadata": {
    "hidden": true
   },
   "source": [
    "### 3.2.1 Response Variable x Features"
   ]
  },
  {
   "cell_type": "markdown",
   "id": "5a85a016",
   "metadata": {
    "hidden": true
   },
   "source": [
    "#### Age"
   ]
  },
  {
   "cell_type": "code",
   "execution_count": null,
   "id": "6b212590",
   "metadata": {
    "ExecuteTime": {
     "end_time": "2022-02-06T16:35:07.508488Z",
     "start_time": "2022-02-06T16:35:06.474174Z"
    },
    "hidden": true
   },
   "outputs": [],
   "source": [
    "plt.subplot(1,3,1)\n",
    "sns.boxplot( x='response' , y='age', data=df4);\n",
    "\n",
    "aux1 =  df4.loc[df3['response'] == 0, 'age']\n",
    "aux11 = df4.loc[df3['response'] == 1, 'age']\n",
    "\n",
    "plt.subplot(1,3,2)\n",
    "plt.title(\"Negative Response\")\n",
    "sns.histplot( aux1 );\n",
    "\n",
    "plt.subplot(1,3,3)\n",
    "plt.title(\"Positive Response\")\n",
    "sns.histplot( aux11 );"
   ]
  },
  {
   "cell_type": "markdown",
   "id": "ad22cb32",
   "metadata": {
    "hidden": true
   },
   "source": [
    "#### Annual Premium"
   ]
  },
  {
   "cell_type": "code",
   "execution_count": null,
   "id": "01a70624",
   "metadata": {
    "ExecuteTime": {
     "end_time": "2022-02-06T16:35:10.253490Z",
     "start_time": "2022-02-06T16:35:07.511271Z"
    },
    "hidden": true,
    "scrolled": false
   },
   "outputs": [],
   "source": [
    "# With Outliers - Barplots\n",
    "plt.subplot(2,2,1)\n",
    "plt.title(\"All Data\")\n",
    "sns.boxplot( x='response' , y='annual_premium', data=df4);\n",
    "\n",
    "# Without Outliers - Barplots\n",
    "aux2 = df4[df4['annual_premium'] < 80000]\n",
    "plt.subplot(2,2,2)\n",
    "plt.title(\"Without Outliers\")\n",
    "sns.boxplot( x='response' , y='annual_premium', data=aux2);\n",
    "\n",
    "# Histograms\n",
    "aux21 = df4[(df4['annual_premium'] > 10000) & (df4['annual_premium'] < 80000 )]\n",
    "aux22 = aux21.loc[aux21['response'] == 0, 'annual_premium']\n",
    "aux23 = aux21.loc[aux21['response'] == 1, 'annual_premium']\n",
    "\n",
    "plt.subplot(2,2,3)\n",
    "plt.title(\"Negative Response\")\n",
    "sns.histplot( aux22 );\n",
    "\n",
    "plt.subplot(2,2,4)\n",
    "plt.title(\"Positive Response\")\n",
    "sns.histplot( aux23 );"
   ]
  },
  {
   "cell_type": "markdown",
   "id": "b0e0f2e9",
   "metadata": {
    "hidden": true
   },
   "source": [
    "#### Driving License"
   ]
  },
  {
   "cell_type": "code",
   "execution_count": null,
   "id": "16c05185",
   "metadata": {
    "ExecuteTime": {
     "end_time": "2022-02-06T16:35:10.505025Z",
     "start_time": "2022-02-06T16:35:10.256760Z"
    },
    "hidden": true,
    "scrolled": false
   },
   "outputs": [],
   "source": [
    "aux3 = df4[['driving_license','response']].groupby('response').sum().reset_index()\n",
    "aux3['driving_license_perc'] = aux3['driving_license'] / aux3['driving_license'].sum()\n",
    "sns.barplot( x='response', y='driving_license',data=aux3 );"
   ]
  },
  {
   "cell_type": "code",
   "execution_count": null,
   "id": "cc469a4c",
   "metadata": {
    "ExecuteTime": {
     "end_time": "2022-02-06T16:35:10.518763Z",
     "start_time": "2022-02-06T16:35:10.508189Z"
    },
    "hidden": true
   },
   "outputs": [],
   "source": [
    "aux3"
   ]
  },
  {
   "cell_type": "markdown",
   "id": "4db38b9f",
   "metadata": {
    "heading_collapsed": true,
    "hidden": true
   },
   "source": [
    "#### Region Code"
   ]
  },
  {
   "cell_type": "code",
   "execution_count": null,
   "id": "e3375665",
   "metadata": {
    "ExecuteTime": {
     "end_time": "2022-02-06T16:35:11.019639Z",
     "start_time": "2022-02-06T16:35:10.521167Z"
    },
    "hidden": true,
    "scrolled": false
   },
   "outputs": [],
   "source": [
    "aux4 = df4[['id', 'region_code', 'response']].groupby( ['region_code', 'response'] ).count().reset_index()\n",
    "sns.scatterplot( x='region_code', y='id', hue='response', data=aux4 );"
   ]
  },
  {
   "cell_type": "markdown",
   "id": "fbe14169",
   "metadata": {
    "heading_collapsed": true,
    "hidden": true
   },
   "source": [
    "#### Previously Insured"
   ]
  },
  {
   "cell_type": "code",
   "execution_count": null,
   "id": "7358bc49",
   "metadata": {
    "ExecuteTime": {
     "end_time": "2022-02-06T16:35:11.505514Z",
     "start_time": "2022-02-06T16:35:11.021740Z"
    },
    "hidden": true
   },
   "outputs": [],
   "source": [
    "aux5 = df4[['id', 'previously_insured', 'response']].groupby( ['previously_insured', 'response'] ).count().reset_index()\n",
    "sns.catplot( x='previously_insured', y='id', hue='response', kind='bar', data=aux5);\n",
    "\n",
    "pd.crosstab(df4['previously_insured'], df4['response'] ).apply( lambda x: x / x.sum(), axis=1 )"
   ]
  },
  {
   "cell_type": "markdown",
   "id": "22f4e6a9",
   "metadata": {
    "heading_collapsed": true,
    "hidden": true
   },
   "source": [
    "#### Vehicle Age"
   ]
  },
  {
   "cell_type": "code",
   "execution_count": null,
   "id": "d52529ca",
   "metadata": {
    "ExecuteTime": {
     "end_time": "2022-02-06T16:35:11.564182Z",
     "start_time": "2022-02-06T16:35:11.507915Z"
    },
    "hidden": true
   },
   "outputs": [],
   "source": [
    "aux6 = df4[['vehicle_age', 'response']].value_counts( normalize=True ).reset_index().sort_values(by='vehicle_age')\n",
    "aux6.columns=[['vehicle_age','response','percentage']] \n",
    "aux6"
   ]
  },
  {
   "cell_type": "markdown",
   "id": "588a09b8",
   "metadata": {
    "heading_collapsed": true,
    "hidden": true
   },
   "source": [
    "#### Vehicle Damage"
   ]
  },
  {
   "cell_type": "code",
   "execution_count": null,
   "id": "376d999b",
   "metadata": {
    "ExecuteTime": {
     "end_time": "2022-02-06T16:35:12.012683Z",
     "start_time": "2022-02-06T16:35:11.566065Z"
    },
    "hidden": true
   },
   "outputs": [],
   "source": [
    "aux7 = df4[['id', 'vehicle_damage', 'response']].groupby( ['vehicle_damage', 'response'] ).count().reset_index()\n",
    "sns.catplot( x='vehicle_damage', y='id', hue='response', kind='bar', data=aux7);\n",
    "\n",
    "pd.crosstab(df4['vehicle_damage'], df4['response'] ).apply( lambda x: x / x.sum(), axis=1 )"
   ]
  },
  {
   "cell_type": "markdown",
   "id": "2518f674",
   "metadata": {
    "heading_collapsed": true,
    "hidden": true
   },
   "source": [
    "#### Vintage"
   ]
  },
  {
   "cell_type": "code",
   "execution_count": null,
   "id": "f2ca2b70",
   "metadata": {
    "ExecuteTime": {
     "end_time": "2022-02-06T16:35:12.912356Z",
     "start_time": "2022-02-06T16:35:12.015526Z"
    },
    "hidden": true,
    "scrolled": true
   },
   "outputs": [],
   "source": [
    "plt.subplot(1,3,1)\n",
    "sns.boxplot( x='response', y='vintage', data=df4 );\n",
    "\n",
    "aux8 = df4.loc[df3['response'] == 0, 'vintage']\n",
    "aux81 = df4.loc[df3['response'] == 1, 'vintage']\n",
    "\n",
    "plt.subplot(1,3,2)\n",
    "plt.title(\"Negative Response\")\n",
    "sns.histplot(aux8);\n",
    "\n",
    "plt.subplot(1,3,3)\n",
    "plt.title(\"Positive Response\")\n",
    "sns.histplot(aux81);"
   ]
  },
  {
   "cell_type": "markdown",
   "id": "5c5b4732",
   "metadata": {
    "heading_collapsed": true,
    "hidden": true
   },
   "source": [
    "#### Gender"
   ]
  },
  {
   "cell_type": "code",
   "execution_count": null,
   "id": "ac5b2e47",
   "metadata": {
    "ExecuteTime": {
     "end_time": "2022-02-06T16:35:13.201315Z",
     "start_time": "2022-02-06T16:35:12.914362Z"
    },
    "hidden": true
   },
   "outputs": [],
   "source": [
    "aux9 = df4[['id', 'gender', 'response']].groupby(['gender','response']).count().reset_index()\n",
    "aux9.columns=[['gender','response','total']]\n",
    "\n",
    "# Pie Chart\n",
    "data = aux9['total'].squeeze().tolist()\n",
    "labels = ['Female Response 0', 'Female Response 1', 'Male Response 0', 'Male Response 1']\n",
    "plt.pie(data, labels = labels, autopct='%.0f%%')\n",
    "plt.show()"
   ]
  },
  {
   "cell_type": "markdown",
   "id": "150ac957",
   "metadata": {
    "hidden": true
   },
   "source": [
    "#### Policy Sales Channel"
   ]
  },
  {
   "cell_type": "code",
   "execution_count": null,
   "id": "99f0c321",
   "metadata": {
    "ExecuteTime": {
     "end_time": "2022-02-06T16:35:15.775925Z",
     "start_time": "2022-02-06T16:35:13.203989Z"
    },
    "hidden": true
   },
   "outputs": [],
   "source": [
    "aux10 = df4[['policy_sales_channel','response']].groupby('policy_sales_channel').sum().reset_index()\n",
    "sns.barplot( x='response', y='policy_sales_channel', data=aux10 );\n",
    "plt.xticks(rotation=60);"
   ]
  },
  {
   "cell_type": "code",
   "execution_count": null,
   "id": "8a56c004",
   "metadata": {
    "ExecuteTime": {
     "end_time": "2022-02-06T16:35:21.005165Z",
     "start_time": "2022-02-06T16:35:15.778611Z"
    },
    "hidden": true
   },
   "outputs": [],
   "source": [
    "aux101 = pd.crosstab(df4['policy_sales_channel'], df4['response'] ).apply( lambda x: x / x.sum(), axis=1 )\n",
    "\n",
    "aux101.plot(kind='bar', \n",
    "            stacked=True)\n",
    "\n",
    "plt.legend(loc=\"upper left\", ncol=2)\n",
    "plt.xlabel(\"Policy Sales Channel\")\n",
    "plt.ylabel(\"Proportion\")\n",
    "plt.show()"
   ]
  },
  {
   "cell_type": "markdown",
   "id": "adf9af6f",
   "metadata": {
    "hidden": true
   },
   "source": [
    "### 3.2.2 Hypothesis Validation"
   ]
  },
  {
   "cell_type": "markdown",
   "id": "c6274bae",
   "metadata": {
    "hidden": true
   },
   "source": [
    "#### H1. Insurance for women is more expensive on average than for men - FALSE"
   ]
  },
  {
   "cell_type": "code",
   "execution_count": null,
   "id": "a957157a",
   "metadata": {
    "ExecuteTime": {
     "end_time": "2022-02-06T16:35:21.228967Z",
     "start_time": "2022-02-06T16:35:21.007931Z"
    },
    "hidden": true
   },
   "outputs": [],
   "source": [
    "h1 = df3[['gender','annual_premium']].groupby('gender').mean().reset_index()\n",
    "sns.barplot( x='gender', y='annual_premium', data=h1);"
   ]
  },
  {
   "cell_type": "markdown",
   "id": "0c9bb8b9",
   "metadata": {
    "hidden": true
   },
   "source": [
    "#### H2. Older customers are more interested in \"cross-selling\" - FALSE"
   ]
  },
  {
   "cell_type": "code",
   "execution_count": null,
   "id": "c1a7f820",
   "metadata": {
    "ExecuteTime": {
     "end_time": "2022-02-06T16:35:22.006625Z",
     "start_time": "2022-02-06T16:35:21.231581Z"
    },
    "hidden": true
   },
   "outputs": [],
   "source": [
    "h2 = df3[['vintage','response']].groupby('vintage').sum().reset_index()\n",
    "\n",
    "bins = list(np.arange(0,300,30))\n",
    "h2['vintage_binned'] = pd.cut( h2['vintage'], bins=bins)\n",
    "h2b = h2[['vintage_binned','response']].groupby('vintage_binned').sum().reset_index()\n",
    "\n",
    "plt.subplot(1,2,1)\n",
    "sns.barplot(x='vintage_binned',y='response',data=h2b);\n",
    "plt.xticks(rotation=90);\n",
    "\n",
    "plt.subplot(1,2,2)\n",
    "sns.heatmap(h2.corr(method='pearson'), annot=True);"
   ]
  },
  {
   "cell_type": "markdown",
   "id": "8065e080",
   "metadata": {
    "heading_collapsed": true,
    "hidden": true
   },
   "source": [
    "#### H3. From the age of 60 onwards, annual health insurance becomes more expensive - TRUE"
   ]
  },
  {
   "cell_type": "code",
   "execution_count": null,
   "id": "c573c0c0",
   "metadata": {
    "ExecuteTime": {
     "end_time": "2022-02-06T16:35:25.720788Z",
     "start_time": "2022-02-06T16:35:22.009840Z"
    },
    "hidden": true
   },
   "outputs": [],
   "source": [
    "h3 = df3[['age','annual_premium']].groupby('age').mean().reset_index()\n",
    "\n",
    "plt.subplot(1,3,1)\n",
    "sns.barplot(x='age',y='annual_premium',data=h3)\n",
    "plt.xticks(rotation=75)\n",
    "\n",
    "plt.subplot(1,3,2)\n",
    "sns.regplot(x='age',y='annual_premium',data=h3);\n",
    "\n",
    "plt.subplot(1,3,3)\n",
    "sns.heatmap(h3.corr(method='pearson'), annot=True);\n"
   ]
  },
  {
   "cell_type": "markdown",
   "id": "f2b40dc0",
   "metadata": {
    "heading_collapsed": true,
    "hidden": true
   },
   "source": [
    "#### H4. The region is directly related to the interest or not in car insurance - FALSE (except region 28)"
   ]
  },
  {
   "cell_type": "code",
   "execution_count": null,
   "id": "5a462a9d",
   "metadata": {
    "ExecuteTime": {
     "end_time": "2022-02-06T16:35:26.560776Z",
     "start_time": "2022-02-06T16:35:25.722824Z"
    },
    "hidden": true
   },
   "outputs": [],
   "source": [
    "h4 = df3[['id','region_code', 'response']].groupby(['region_code','response']).count().reset_index()\n",
    "\n",
    "plt.subplot(1,3,1)\n",
    "sns.scatterplot(data=h4, x=\"region_code\", y=\"id\", hue=\"response\");\n",
    "\n",
    "h42 = df3[['region_code', 'response']].groupby('region_code').sum().reset_index()\n",
    "\n",
    "plt.subplot(1,3,2)\n",
    "sns.heatmap(h42.corr(method='pearson'), annot=True);\n",
    "\n",
    "h43 = df3[df3['response'] == 0]\n",
    "h44 = h43[['region_code', 'response']].groupby('region_code').count().reset_index()\n",
    "\n",
    "plt.subplot(1,3,3)\n",
    "sns.heatmap(h44.corr(method='pearson'), annot=True);\n"
   ]
  },
  {
   "cell_type": "markdown",
   "id": "fd1b2985",
   "metadata": {
    "heading_collapsed": true,
    "hidden": true
   },
   "source": [
    "#### H5. Customers with already damaged vehicles already have insurance - FALSE"
   ]
  },
  {
   "cell_type": "code",
   "execution_count": null,
   "id": "29c330bb",
   "metadata": {
    "ExecuteTime": {
     "end_time": "2022-02-06T16:35:26.758253Z",
     "start_time": "2022-02-06T16:35:26.562750Z"
    },
    "hidden": true
   },
   "outputs": [],
   "source": [
    "h5 = df3[['vehicle_damage','previously_insured']].groupby('vehicle_damage').sum().reset_index()\n",
    "sns.barplot(x=\"vehicle_damage\", y=\"previously_insured\", data=h5);"
   ]
  },
  {
   "cell_type": "markdown",
   "id": "77e2346c",
   "metadata": {
    "heading_collapsed": true,
    "hidden": true
   },
   "source": [
    "#### H6. Most customers with newer cars already have insurance - TRUE"
   ]
  },
  {
   "cell_type": "code",
   "execution_count": null,
   "id": "d19fc73a",
   "metadata": {
    "ExecuteTime": {
     "end_time": "2022-02-06T16:35:26.992829Z",
     "start_time": "2022-02-06T16:35:26.760635Z"
    },
    "hidden": true
   },
   "outputs": [],
   "source": [
    "h6 = df3[['vehicle_age','previously_insured']].groupby('vehicle_age').sum().reset_index()\n",
    "sns.barplot(x=\"vehicle_age\", y=\"previously_insured\", data=h6);"
   ]
  },
  {
   "cell_type": "markdown",
   "id": "2b47efcb",
   "metadata": {
    "heading_collapsed": true,
    "hidden": true
   },
   "source": [
    "#### H7. Customers who already have car insurance, are not interested in exchanging - TRUE"
   ]
  },
  {
   "cell_type": "code",
   "execution_count": null,
   "id": "296ebeff",
   "metadata": {
    "ExecuteTime": {
     "end_time": "2022-02-06T16:35:27.201533Z",
     "start_time": "2022-02-06T16:35:26.995364Z"
    },
    "hidden": true
   },
   "outputs": [],
   "source": [
    "h7 = df3[df3['previously_insured'] == 1]\n",
    "h72 = h7[['previously_insured', 'response']].groupby('response').sum().reset_index()\n",
    "sns.barplot(x=\"response\", y=\"previously_insured\", data=h72);"
   ]
  },
  {
   "cell_type": "markdown",
   "id": "625c2eb9",
   "metadata": {
    "heading_collapsed": true,
    "hidden": true
   },
   "source": [
    "#### H8. Customers who pay more for insurance annually are less interested in purchasing another - TRUE"
   ]
  },
  {
   "cell_type": "code",
   "execution_count": null,
   "id": "edcee161",
   "metadata": {
    "ExecuteTime": {
     "end_time": "2022-02-06T16:35:27.975342Z",
     "start_time": "2022-02-06T16:35:27.203919Z"
    },
    "hidden": true
   },
   "outputs": [],
   "source": [
    "h8 = df3[['annual_premium','response']].groupby('annual_premium').sum().reset_index()\n",
    "\n",
    "bins = list(np.arange(1000,80000,4000))\n",
    "h8['annual_premium_binned'] = pd.cut( h8['annual_premium'], bins=bins)\n",
    "h8b = h8[['annual_premium_binned','response']].groupby('annual_premium_binned').sum().reset_index()\n",
    "\n",
    "plt.subplot(1,2,1)\n",
    "sns.barplot(x='annual_premium_binned',y='response',data=h8b);\n",
    "plt.xticks(rotation=90);\n",
    "\n",
    "plt.subplot(1,2,2)\n",
    "sns.heatmap(h8.corr(method='pearson'), annot=True);"
   ]
  },
  {
   "cell_type": "markdown",
   "id": "55c0546f",
   "metadata": {
    "heading_collapsed": true,
    "hidden": true
   },
   "source": [
    "### 3.2.3 Hypothesis Conclusion"
   ]
  },
  {
   "cell_type": "code",
   "execution_count": null,
   "id": "f4f89fdb",
   "metadata": {
    "ExecuteTime": {
     "end_time": "2022-02-06T16:35:27.985125Z",
     "start_time": "2022-02-06T16:35:27.978084Z"
    },
    "hidden": true
   },
   "outputs": [],
   "source": [
    "tab = [['Hypotesis', 'Conclusion', 'Relevance'],\n",
    "      ['H1', 'False', 'Low'],\n",
    "      ['H2', 'False', 'Low'],\n",
    "      ['H3', 'True', 'Average'],  \n",
    "      ['H4', 'False', 'Low'], \n",
    "      ['H5', 'False', 'High'],\n",
    "      ['H6', 'True', 'High'],\n",
    "      ['H7', 'True', 'High'],\n",
    "      ['H8', 'True', 'Average'],\n",
    "      ]\n",
    "print( tabulate( tab, headers='firstrow'))"
   ]
  },
  {
   "cell_type": "markdown",
   "id": "f067f5c7",
   "metadata": {
    "heading_collapsed": true
   },
   "source": [
    "## 3.3 Multivariate Analysis"
   ]
  },
  {
   "cell_type": "markdown",
   "id": "308b95cd",
   "metadata": {
    "heading_collapsed": true,
    "hidden": true
   },
   "source": [
    "### 3.3.1 Numerical Attributes"
   ]
  },
  {
   "cell_type": "code",
   "execution_count": null,
   "id": "09d075c0",
   "metadata": {
    "ExecuteTime": {
     "end_time": "2022-02-06T16:35:28.357327Z",
     "start_time": "2022-02-06T16:35:27.989058Z"
    },
    "hidden": true
   },
   "outputs": [],
   "source": [
    "correlation = num_attributes.corr(method = 'pearson')\n",
    "sns.heatmap(correlation, annot=True);"
   ]
  },
  {
   "cell_type": "markdown",
   "id": "18675ab8",
   "metadata": {
    "heading_collapsed": true,
    "hidden": true
   },
   "source": [
    "### 3.3.2 Categorical Attributes"
   ]
  },
  {
   "cell_type": "code",
   "execution_count": null,
   "id": "1c3153aa",
   "metadata": {
    "ExecuteTime": {
     "end_time": "2022-02-06T16:35:30.398615Z",
     "start_time": "2022-02-06T16:35:28.360089Z"
    },
    "hidden": true
   },
   "outputs": [],
   "source": [
    "cat_features = cat_attributes\n",
    "\n",
    "# dataframe with cramer-v \n",
    "cramer_v_dataframe = cramers_v_df(cat_features)\n",
    "\n",
    "# create a mask\n",
    "mask = np.zeros_like(cramer_v_dataframe, dtype=np.bool)\n",
    "mask[np.triu_indices_from(mask)] = True\n",
    "\n",
    "# display heatmap\n",
    "plt.subplots(figsize=(15, 8))\n",
    "sns.heatmap( cramer_v_dataframe, annot = True, mask=mask);"
   ]
  },
  {
   "cell_type": "markdown",
   "id": "b96820fd",
   "metadata": {},
   "source": [
    "# 5.0 DATA PREPARATION"
   ]
  },
  {
   "cell_type": "markdown",
   "id": "cee76c40",
   "metadata": {},
   "source": [
    "## 5.1 Split Data to Train and Validation Data"
   ]
  },
  {
   "cell_type": "code",
   "execution_count": 19,
   "id": "dd92f480",
   "metadata": {
    "ExecuteTime": {
     "end_time": "2022-02-07T01:20:16.832232Z",
     "start_time": "2022-02-07T01:20:16.680672Z"
    }
   },
   "outputs": [],
   "source": [
    "X = df4.drop( 'response', axis=1 )\n",
    "y = df4['response'].copy()\n",
    "\n",
    "x_train, x_validation, y_train, y_validation = ms.train_test_split( X, y, test_size=0.20)\n",
    "\n",
    "df5 = pd.concat( [x_train, y_train], axis=1 )"
   ]
  },
  {
   "cell_type": "markdown",
   "id": "69b43c92",
   "metadata": {},
   "source": [
    "## 5.2 Standardization"
   ]
  },
  {
   "cell_type": "code",
   "execution_count": 20,
   "id": "b54f78fe",
   "metadata": {
    "ExecuteTime": {
     "end_time": "2022-02-07T01:20:18.565729Z",
     "start_time": "2022-02-07T01:20:18.530724Z"
    }
   },
   "outputs": [],
   "source": [
    "ss = pp.StandardScaler()\n",
    "\n",
    "# annual_premium\n",
    "df5['annual_premium'] = ss.fit_transform( df5[['annual_premium']].values)\n",
    "pickle.dump(ss, open('/home/felipe_rastelli/repositorios/pa004_health_insurance_cross_sell/health_insurance_cross-sell/src/features/annual_premium_scaler.pkl', 'wb'))"
   ]
  },
  {
   "cell_type": "markdown",
   "id": "479f0493",
   "metadata": {},
   "source": [
    "## 5.3 Rescaling"
   ]
  },
  {
   "cell_type": "code",
   "execution_count": 21,
   "id": "e0293e2c",
   "metadata": {
    "ExecuteTime": {
     "end_time": "2022-02-07T01:20:20.227045Z",
     "start_time": "2022-02-07T01:20:20.201434Z"
    }
   },
   "outputs": [],
   "source": [
    "mms_age = pp.MinMaxScaler()\n",
    "mms_vintage = pp.MinMaxScaler()\n",
    "\n",
    "# age\n",
    "df5['age'] = mms_age.fit_transform( df5[['age']].values )\n",
    "pickle.dump(mms_age, open('/home/felipe_rastelli/repositorios/pa004_health_insurance_cross_sell/health_insurance_cross-sell/src/features/age_scaler.pkl', 'wb'))\n",
    "\n",
    "# vintage\n",
    "df5['vintage'] = mms_vintage.fit_transform( df5[['vintage']].values )\n",
    "pickle.dump(mms_vintage, open('/home/felipe_rastelli/repositorios/pa004_health_insurance_cross_sell/health_insurance_cross-sell/src/features/vintage_scaler.pkl', 'wb'))"
   ]
  },
  {
   "cell_type": "markdown",
   "id": "7957b867",
   "metadata": {},
   "source": [
    "## 5.4 Encoder"
   ]
  },
  {
   "cell_type": "code",
   "execution_count": 22,
   "id": "9f1e63b0",
   "metadata": {
    "ExecuteTime": {
     "end_time": "2022-02-07T01:20:21.990240Z",
     "start_time": "2022-02-07T01:20:21.861390Z"
    }
   },
   "outputs": [],
   "source": [
    "# gender >  Target Encoding\n",
    "target_encode_gender = df5.groupby( 'gender')['response'].mean()\n",
    "df5.loc[:, 'gender'] = df5['gender'].map( target_encode_gender )\n",
    "pickle.dump(target_encode_gender, open('/home/felipe_rastelli/repositorios/pa004_health_insurance_cross_sell/health_insurance_cross-sell/src/features/target_encode_gender_scaler.pkl', 'wb'))\n",
    "\n",
    "# region_code >  Target Encoding\n",
    "target_encode_region_code = df5.groupby( 'region_code')['response'].mean()\n",
    "df5.loc[:, 'region_code'] = df5['region_code'].map( target_encode_region_code )\n",
    "pickle.dump(target_encode_region_code, open('/home/felipe_rastelli/repositorios/pa004_health_insurance_cross_sell/health_insurance_cross-sell/src/features/target_encode_region_code_scaler.pkl', 'wb'))\n",
    "\n",
    "# vehicle_age > One Hot Encoding \n",
    "df5 = pd.get_dummies( df5, prefix='vehicle_age', columns=['vehicle_age'] )\n",
    "\n",
    "# policy_sales_channel > Frequency Encoding\n",
    "fe_policy_sales_channel = df5.groupby('policy_sales_channel').size() / len( df5)\n",
    "df5.loc[:, 'policy_sales_channel'] = df5['policy_sales_channel'].map( fe_policy_sales_channel )\n",
    "pickle.dump(fe_policy_sales_channel, open('/home/felipe_rastelli/repositorios/pa004_health_insurance_cross_sell/health_insurance_cross-sell/src/features/fe_policy_sales_channel_scaler.pkl', 'wb'))"
   ]
  },
  {
   "cell_type": "markdown",
   "id": "6c9825ff",
   "metadata": {},
   "source": [
    "## 5.5 Validation Preparation"
   ]
  },
  {
   "cell_type": "code",
   "execution_count": 23,
   "id": "d2cfb47f",
   "metadata": {
    "ExecuteTime": {
     "end_time": "2022-02-07T01:20:23.872901Z",
     "start_time": "2022-02-07T01:20:23.785831Z"
    }
   },
   "outputs": [],
   "source": [
    "# annual_premium\n",
    "x_validation.loc[:, 'annual_premium'] = ss.fit_transform( x_validation[['annual_premium']].values)\n",
    "\n",
    "# age\n",
    "x_validation.loc[:, 'age'] = mms_age.fit_transform( x_validation[['age']].values )\n",
    "\n",
    "# vintage\n",
    "x_validation.loc[:, 'vintage'] = mms_vintage.fit_transform( x_validation[['vintage']].values )\n",
    "\n",
    "# gender\n",
    "x_validation.loc[:, 'gender'] = x_validation.loc[:, 'gender'].map( target_encode_gender )\n",
    "\n",
    "# region_code\n",
    "x_validation.loc[:, 'region_code'] = x_validation.loc[:, 'region_code'].map( target_encode_region_code )\n",
    "\n",
    "# vehicle_age\n",
    "x_validation = pd.get_dummies( x_validation, prefix='vehicle_age', columns=['vehicle_age'] )\n",
    "\n",
    "# policy_sales_channel\n",
    "x_validation.loc[:, 'policy_sales_channel'] = x_validation['policy_sales_channel'].map( fe_policy_sales_channel )\n",
    "\n",
    "# fillna\n",
    "x_validation = x_validation.fillna( 0 )"
   ]
  },
  {
   "cell_type": "markdown",
   "id": "14e14667",
   "metadata": {},
   "source": [
    "# 6.0 FEATURE SELECTION"
   ]
  },
  {
   "cell_type": "code",
   "execution_count": 24,
   "id": "c4914e62",
   "metadata": {
    "ExecuteTime": {
     "end_time": "2022-02-07T01:20:25.480543Z",
     "start_time": "2022-02-07T01:20:25.474463Z"
    }
   },
   "outputs": [],
   "source": [
    "df6 = df5.copy()"
   ]
  },
  {
   "cell_type": "markdown",
   "id": "8137b217",
   "metadata": {
    "heading_collapsed": true
   },
   "source": [
    "## 6.1  Boruta Algorithm"
   ]
  },
  {
   "cell_type": "code",
   "execution_count": null,
   "id": "aee20876",
   "metadata": {
    "ExecuteTime": {
     "end_time": "2022-02-06T16:35:31.622333Z",
     "start_time": "2022-02-06T16:35:31.307490Z"
    },
    "hidden": true
   },
   "outputs": [],
   "source": [
    "# # # Training and test dataset for Boruta\n",
    "\n",
    "# x_train_n = df6.drop( ['id', 'response'], axis=1 ).values\n",
    "# y_train_n = y_train.values.ravel()\n",
    "\n",
    "# # # define model\n",
    "# et = en.ExtraTreesClassifier( n_jobs=-1 )\n",
    "\n",
    "# # # define Boruta\n",
    "# boruta = BorutaPy( et, n_estimators='auto', verbose=2, random_state=42 ).fit( x_train_n , y_train_n)"
   ]
  },
  {
   "cell_type": "code",
   "execution_count": null,
   "id": "8cfdd0e9",
   "metadata": {
    "ExecuteTime": {
     "end_time": "2022-02-06T16:35:31.884613Z",
     "start_time": "2022-02-06T16:35:31.624386Z"
    },
    "hidden": true
   },
   "outputs": [],
   "source": [
    "cols_selected_ = boruta.support_.tolist()\n",
    "\n",
    "# # best features\n",
    "x_train_fs = df6.drop( ['id', 'response'], axis=1 )\n",
    "cols_selected_boruta = x_train_fs.iloc[:, cols_selected_].columns.to_list()\n",
    "\n",
    "# # not selected boruta\n",
    "cols_not_selected = np.setdiff1d(x_train_fs.columns, cols_selected_boruta)\n",
    "cols_selected_boruta"
   ]
  },
  {
   "cell_type": "markdown",
   "id": "26f3beab",
   "metadata": {},
   "source": [
    "## 6.2 Features Importance"
   ]
  },
  {
   "cell_type": "code",
   "execution_count": null,
   "id": "7a1fa5b3",
   "metadata": {
    "ExecuteTime": {
     "end_time": "2022-02-06T16:35:31.889010Z",
     "start_time": "2022-02-06T16:34:49.053Z"
    }
   },
   "outputs": [],
   "source": [
    "# model definition\n",
    "forest = en.ExtraTreesClassifier( n_estimators=250, random_state=0, n_jobs=-1)\n",
    "\n",
    "# data preparation\n",
    "x_train_n = df6.drop( ['id', 'response'], axis=1 )\n",
    "y_train_n = y_train.values\n",
    "forest.fit( x_train_n, y_train_n )"
   ]
  },
  {
   "cell_type": "code",
   "execution_count": null,
   "id": "2c8438ce",
   "metadata": {
    "ExecuteTime": {
     "end_time": "2022-02-06T16:35:31.890242Z",
     "start_time": "2022-02-06T16:34:49.057Z"
    }
   },
   "outputs": [],
   "source": [
    "importances = forest.feature_importances_\n",
    "std = np.std([tree.feature_importances_ for tree in forest.estimators_], axis=0)\n",
    "indices = np.argsort(importances)[::-1]\n",
    "\n",
    "# Print the feature ranking\n",
    "print('Feature Ranking')\n",
    "df = pd.DataFrame()\n",
    "for i, j in zip( x_train_n, forest.feature_importances_):\n",
    "    aux = pd.DataFrame( {'feature': i , 'importance': j}, index=[0])\n",
    "    df = pd.concat( [df, aux], axis=0 )\n",
    "\n",
    "print( df.sort_values( 'importance', ascending=False) )\n",
    "\n",
    "# Plot the impurity-based feature importances of the forest\n",
    "plt.figure()\n",
    "plt.title('Feature Importances')\n",
    "plt.bar( range(x_train_n.shape[1]), importances[indices], color='r', yerr=std[indices], align='center')\n",
    "plt.xticks( range(x_train_n.shape[1]), indices)\n",
    "plt.xlim( [-1, x_train_n.shape[1]])\n",
    "plt.show()"
   ]
  },
  {
   "cell_type": "markdown",
   "id": "ecabeee7",
   "metadata": {},
   "source": [
    "## 6.3 Features Selected"
   ]
  },
  {
   "cell_type": "code",
   "execution_count": 25,
   "id": "a62e2a02",
   "metadata": {
    "ExecuteTime": {
     "end_time": "2022-02-07T01:20:27.853620Z",
     "start_time": "2022-02-07T01:20:27.849797Z"
    }
   },
   "outputs": [],
   "source": [
    "# EDA:\n",
    "# Boruta: Feature \"age\"\n",
    "# Feature Importance:\n",
    "cols_selected = ['annual_premium','vintage', 'age', 'region_code', 'vehicle_damage', 'policy_sales_channel', 'previously_insured']"
   ]
  },
  {
   "cell_type": "markdown",
   "id": "e6a1d61f",
   "metadata": {},
   "source": [
    "# 7.0 MACHINE LEARNING "
   ]
  },
  {
   "cell_type": "code",
   "execution_count": 70,
   "id": "b92f0f61",
   "metadata": {
    "ExecuteTime": {
     "end_time": "2022-02-07T01:30:32.911089Z",
     "start_time": "2022-02-07T01:30:32.899267Z"
    }
   },
   "outputs": [],
   "source": [
    "df7 = x_validation.copy()\n",
    "\n",
    "# Select train and validation dataset with only selected columns\n",
    "x_train = df5[ cols_selected ]\n",
    "x_val = x_validation[ cols_selected ]\n",
    "y_val = y_validation.copy()"
   ]
  },
  {
   "cell_type": "markdown",
   "id": "71bd6794",
   "metadata": {},
   "source": [
    "## 7.1 K Neighbors Classifier - KNN"
   ]
  },
  {
   "cell_type": "code",
   "execution_count": 27,
   "id": "36a666f1",
   "metadata": {
    "ExecuteTime": {
     "end_time": "2022-02-07T01:20:54.284607Z",
     "start_time": "2022-02-07T01:20:31.154545Z"
    },
    "code_folding": []
   },
   "outputs": [],
   "source": [
    "# model definition\n",
    "knn_model = nh.KNeighborsClassifier( n_neighbors=7 )\n",
    "\n",
    "# model training\n",
    "knn_model.fit( x_train, y_train )\n",
    "\n",
    "# model prediction\n",
    "yhat_knn = knn_model.predict_proba( x_val )"
   ]
  },
  {
   "cell_type": "markdown",
   "id": "eb87046a",
   "metadata": {},
   "source": [
    "## 7.2 Logistic Regression"
   ]
  },
  {
   "cell_type": "code",
   "execution_count": 28,
   "id": "48b336b2",
   "metadata": {
    "ExecuteTime": {
     "end_time": "2022-02-07T01:20:55.373243Z",
     "start_time": "2022-02-07T01:20:54.286837Z"
    },
    "code_folding": [],
    "hide_input": false
   },
   "outputs": [],
   "source": [
    "# model definition\n",
    "lr_model = lm.LogisticRegression( random_state=42 )\n",
    "\n",
    "# model training\n",
    "lr_model.fit( x_train, y_train )\n",
    "\n",
    "# model prediction\n",
    "yhat_lr = lr_model.predict_proba( x_val )"
   ]
  },
  {
   "cell_type": "markdown",
   "id": "82836d3c",
   "metadata": {
    "ExecuteTime": {
     "end_time": "2021-12-21T16:57:11.356756Z",
     "start_time": "2021-12-21T16:57:11.353697Z"
    }
   },
   "source": [
    "## 7.3 Random Forest Classifier"
   ]
  },
  {
   "cell_type": "code",
   "execution_count": 31,
   "id": "a343e67f",
   "metadata": {
    "ExecuteTime": {
     "end_time": "2022-02-07T01:22:02.301830Z",
     "start_time": "2022-02-07T01:21:39.498758Z"
    },
    "code_folding": []
   },
   "outputs": [],
   "source": [
    "# model definition\n",
    "rf_model = RandomForestClassifier(max_depth=10, random_state=42)\n",
    "\n",
    "# model training\n",
    "rf_model.fit( x_train, y_train )\n",
    "\n",
    "# model prediction\n",
    "yhat_rf = rf_model.predict_proba( x_val )"
   ]
  },
  {
   "cell_type": "markdown",
   "id": "6af509b3",
   "metadata": {},
   "source": [
    "## 7.4 Gradient Boosting Classifier - XGBoost"
   ]
  },
  {
   "cell_type": "code",
   "execution_count": 29,
   "id": "5b8655e8",
   "metadata": {
    "ExecuteTime": {
     "end_time": "2022-02-07T01:21:37.257912Z",
     "start_time": "2022-02-07T01:20:55.375886Z"
    }
   },
   "outputs": [],
   "source": [
    "# model definition\n",
    "xgb_model = GradientBoostingClassifier(n_estimators=100, learning_rate=1.0,\n",
    "             max_depth=3, random_state=0)\n",
    "\n",
    "# model training\n",
    "xgb_model.fit( x_train, y_train )\n",
    "\n",
    "# model prediction\n",
    "yhat_xgb = xgb_model.predict_proba( x_val )"
   ]
  },
  {
   "cell_type": "markdown",
   "id": "142e1feb",
   "metadata": {
    "ExecuteTime": {
     "end_time": "2021-12-23T16:58:18.490082Z",
     "start_time": "2021-12-23T16:58:18.409187Z"
    }
   },
   "source": [
    "## 7.5 Light Gradient Boosting Machine Classifier - LGBM"
   ]
  },
  {
   "cell_type": "code",
   "execution_count": 71,
   "id": "751bf21c",
   "metadata": {
    "ExecuteTime": {
     "end_time": "2022-02-07T01:30:39.982707Z",
     "start_time": "2022-02-07T01:30:37.560249Z"
    },
    "code_folding": []
   },
   "outputs": [],
   "source": [
    "# model definition\n",
    "lgbm_model = LGBMClassifier(n_jobs =-1, max_depth=10)\n",
    "\n",
    "# model training\n",
    "lgbm_model.fit( x_train, y_train )\n",
    "\n",
    "# model prediction\n",
    "yhat_lgbm = lgbm_model.predict_proba( x_val )"
   ]
  },
  {
   "cell_type": "markdown",
   "id": "e04692ca",
   "metadata": {},
   "source": [
    "## 7.6 Metrics - Compare Models"
   ]
  },
  {
   "cell_type": "markdown",
   "id": "6c2a593c",
   "metadata": {},
   "source": [
    "### Precision @K and Recall @K"
   ]
  },
  {
   "cell_type": "code",
   "execution_count": 32,
   "id": "312175b4",
   "metadata": {
    "ExecuteTime": {
     "end_time": "2022-02-07T01:22:02.608722Z",
     "start_time": "2022-02-07T01:22:02.303597Z"
    }
   },
   "outputs": [],
   "source": [
    "# dataframe to save model's precision@k\n",
    "precision_metrics = pd.DataFrame(columns=['Model', 'Size_MB', 'Precision@k','Recall@k'])\n",
    "\n",
    "# size of true values from target validation dataset\n",
    "k_size = round(20000/len(df_prod) * len(df7))\n",
    "\n",
    "# List of model's predictions\n",
    "y_preds_list = {'KNN': [yhat_knn, knn_model], \n",
    "                'Logistic Regression': [yhat_lr, lr_model], \n",
    "                'Random Forest': [yhat_rf, rf_model], \n",
    "                'XGBoost': [yhat_xgb, xgb_model],\n",
    "                'LightGBM': [yhat_lgbm, lgbm_model]}\n",
    "\n",
    "# add y_val to data to create score metrics \n",
    "df7['response'] = y_validation.copy()\n",
    "\n",
    "# populate df with precision@k and model's size\n",
    "for k, v in y_preds_list.items():\n",
    "    \n",
    "    # propensity score\n",
    "    df7['propensity_score'] = v[0][:, 1].tolist()\n",
    "          \n",
    "    # calc precision@k\n",
    "    precisionatk = precision_at_k(df7, k=k_size)\n",
    "    \n",
    "    # calc recall@k\n",
    "    recallatk = recall_at_k(df7, k=k_size) \n",
    "       \n",
    "    # calc trained model's size\n",
    "    model_size = get_size(v[1])\n",
    "    \n",
    "    # populate dataframe\n",
    "    precision_metrics = precision_metrics.append({'Model': k, 'Size_MB': model_size, 'Precision@k': precisionatk, 'Recall@k':recallatk}, ignore_index=True)"
   ]
  },
  {
   "cell_type": "markdown",
   "id": "c478660d",
   "metadata": {
    "heading_collapsed": true
   },
   "source": [
    "### Cross Validation"
   ]
  },
  {
   "cell_type": "code",
   "execution_count": null,
   "id": "727186ac",
   "metadata": {
    "ExecuteTime": {
     "end_time": "2022-02-06T20:04:55.613517Z",
     "start_time": "2022-02-06T19:56:34.678509Z"
    },
    "hidden": true
   },
   "outputs": [],
   "source": [
    "# K-Nearest Neighbours\n",
    "yhat_knn_cv, cv_knn = cross_validation(knn_model, 'KNN', x_train, y_train, 10, k_size) \n",
    "# Logistic Regression\n",
    "yhat_lr_cv, cv_lr = cross_validation(lr_model, 'Logistic Regression', x_train, y_train,10 , k_size) \n",
    "# Random Forest\n",
    "yhat_rf_cv, cv_rf = cross_validation(rf_model, 'Random Forest', x_train, y_train, 10 , k_size) \n",
    "# XGBoost\n",
    "yhat_xgb_cv, cv_xgb = cross_validation(xgb_model, 'XGBoost', x_train, y_train, 10 , k_size) \n",
    "#LGBM Classifier\n",
    "yhat_lgbm_cv, cv_lgbm = cross_validation(lgbm_model, 'LightGBM', x_train, y_train, 10 , k_size) \n",
    "\n",
    "# df with model's precision @k - cv\n",
    "precision_metrics_cv = pd.concat([cv_knn, cv_lr, cv_rf, cv_xgb, cv_lgbm])"
   ]
  },
  {
   "cell_type": "markdown",
   "id": "b202fb2f",
   "metadata": {
    "heading_collapsed": true
   },
   "source": [
    "### Resume"
   ]
  },
  {
   "cell_type": "code",
   "execution_count": null,
   "id": "c410f4e4",
   "metadata": {
    "ExecuteTime": {
     "end_time": "2022-02-06T20:04:55.688373Z",
     "start_time": "2022-02-06T20:04:55.616796Z"
    },
    "hidden": true
   },
   "outputs": [],
   "source": [
    "# join precision and recall @k without and with cross validation\n",
    "model_results = pd.merge(precision_metrics, precision_metrics_cv, on='Model', how='inner' )\n",
    "model_results = model_results.sort_values('Recall@k', ascending=False)\n",
    "model_results"
   ]
  },
  {
   "cell_type": "markdown",
   "id": "c78180c2",
   "metadata": {
    "heading_collapsed": true
   },
   "source": [
    "### Cumulative Gains Curve"
   ]
  },
  {
   "cell_type": "code",
   "execution_count": null,
   "id": "1ab430df",
   "metadata": {
    "ExecuteTime": {
     "end_time": "2022-02-06T20:04:56.930452Z",
     "start_time": "2022-02-06T20:04:55.690912Z"
    },
    "hidden": true
   },
   "outputs": [],
   "source": [
    "fig = plt.figure(figsize=(20,15))\n",
    "specs = gridspec.GridSpec(ncols=3,nrows=2)\n",
    "\n",
    "ax6 = fig.add_subplot(specs[0, 0]) \n",
    "ax7 = fig.add_subplot(specs[0, 1]) \n",
    "ax8 = fig.add_subplot(specs[0, 2]) \n",
    "ax9 = fig.add_subplot(specs[1, 0]) \n",
    "ax10 = fig.add_subplot(specs[1, 1]) \n",
    "\n",
    "skplt.metrics.plot_cumulative_gain( y_validation, yhat_knn, ax=ax6 ,  title='KNN');\n",
    "skplt.metrics.plot_cumulative_gain( y_validation, yhat_lr , ax=ax7 , title='LLR' );\n",
    "skplt.metrics.plot_cumulative_gain( y_validation, yhat_rf , ax=ax8 , title='RFC' );\n",
    "skplt.metrics.plot_cumulative_gain( y_validation, yhat_xgb , ax=ax9 , title='XGBC' );\n",
    "skplt.metrics.plot_cumulative_gain( y_validation, yhat_lgbm , ax=ax10 , title='LGBM' );"
   ]
  },
  {
   "cell_type": "markdown",
   "id": "f402acbf",
   "metadata": {
    "heading_collapsed": true
   },
   "source": [
    "### Lift Curve"
   ]
  },
  {
   "cell_type": "code",
   "execution_count": null,
   "id": "f97c8e0e",
   "metadata": {
    "ExecuteTime": {
     "end_time": "2022-02-06T20:04:58.226127Z",
     "start_time": "2022-02-06T20:04:56.934241Z"
    },
    "hidden": true,
    "scrolled": false
   },
   "outputs": [],
   "source": [
    "fig = plt.figure(figsize=(20,15))\n",
    "specs = gridspec.GridSpec(ncols=3,nrows=2)\n",
    "\n",
    "ax1 = fig.add_subplot(specs[0, 0]) \n",
    "ax2 = fig.add_subplot(specs[0, 1]) \n",
    "ax3 = fig.add_subplot(specs[0, 2]) \n",
    "ax4 = fig.add_subplot(specs[1, 0]) \n",
    "ax5 = fig.add_subplot(specs[1, 1]) \n",
    "\n",
    "skplt.metrics.plot_lift_curve(y_validation,yhat_knn, ax=ax1 ,  title='KNN');\n",
    "skplt.metrics.plot_lift_curve(y_validation,yhat_lr , ax=ax2 , title='LR' );\n",
    "skplt.metrics.plot_lift_curve(y_validation,yhat_rf  , ax=ax3 , title='RFC' );\n",
    "skplt.metrics.plot_lift_curve(y_validation,yhat_xgb , ax=ax4 , title='XGBC' );\n",
    "skplt.metrics.plot_lift_curve(y_validation,yhat_lgbm , ax=ax5 , title='LGBM' );    "
   ]
  },
  {
   "cell_type": "markdown",
   "id": "4dba9bcd",
   "metadata": {},
   "source": [
    "# 8.0 HYPERPARAMETER FINE TUNING"
   ]
  },
  {
   "cell_type": "code",
   "execution_count": 72,
   "id": "119e279c",
   "metadata": {
    "ExecuteTime": {
     "end_time": "2022-02-07T01:30:44.190284Z",
     "start_time": "2022-02-07T01:30:44.183936Z"
    }
   },
   "outputs": [],
   "source": [
    "df8 = df7.copy()\n",
    "df8 = df8.drop('propensity_score', axis=1 )"
   ]
  },
  {
   "cell_type": "markdown",
   "id": "4a2158c6",
   "metadata": {},
   "source": [
    "## 8.1 Random Search"
   ]
  },
  {
   "cell_type": "code",
   "execution_count": 73,
   "id": "9a8f1b3f",
   "metadata": {
    "ExecuteTime": {
     "end_time": "2022-02-07T01:30:50.913131Z",
     "start_time": "2022-02-07T01:30:50.904741Z"
    }
   },
   "outputs": [],
   "source": [
    "# https://lightgbm.readthedocs.io/en/latest/Parameters.html\n",
    "\n",
    "MAX_EVAL = 10\n",
    "\n",
    "lgbm_parameter = {'num_leaves': (5,15,45,60,90),\n",
    "                  'max_depth': (5, 7, 10 ),\n",
    "                  'min_split_gain': (0.001, 0.01 ,0.1),\n",
    "                  'min_child_weight': (10,30,40,50),\n",
    "                  'subsample':(0.5, 1),\n",
    "                  'colsample_bytree':(0.1, 1)\n",
    "                 }"
   ]
  },
  {
   "cell_type": "code",
   "execution_count": 74,
   "id": "fdd9ea08",
   "metadata": {
    "ExecuteTime": {
     "end_time": "2022-02-07T01:31:11.895186Z",
     "start_time": "2022-02-07T01:30:53.338114Z"
    }
   },
   "outputs": [
    {
     "name": "stdout",
     "output_type": "stream",
     "text": [
      "{'num_leaves': 45, 'max_depth': 7, 'min_split_gain': 0.001, 'min_child_weight': 30, 'subsample': 1, 'colsample_bytree': 0.1}\n",
      "{'num_leaves': 15, 'max_depth': 5, 'min_split_gain': 0.1, 'min_child_weight': 10, 'subsample': 0.5, 'colsample_bytree': 1}\n",
      "{'num_leaves': 90, 'max_depth': 5, 'min_split_gain': 0.001, 'min_child_weight': 40, 'subsample': 0.5, 'colsample_bytree': 0.1}\n",
      "{'num_leaves': 90, 'max_depth': 5, 'min_split_gain': 0.001, 'min_child_weight': 30, 'subsample': 0.5, 'colsample_bytree': 1}\n",
      "{'num_leaves': 90, 'max_depth': 7, 'min_split_gain': 0.001, 'min_child_weight': 30, 'subsample': 0.5, 'colsample_bytree': 1}\n",
      "{'num_leaves': 5, 'max_depth': 7, 'min_split_gain': 0.1, 'min_child_weight': 40, 'subsample': 0.5, 'colsample_bytree': 1}\n",
      "{'num_leaves': 90, 'max_depth': 7, 'min_split_gain': 0.01, 'min_child_weight': 40, 'subsample': 1, 'colsample_bytree': 0.1}\n",
      "{'num_leaves': 45, 'max_depth': 7, 'min_split_gain': 0.1, 'min_child_weight': 10, 'subsample': 1, 'colsample_bytree': 1}\n",
      "{'num_leaves': 60, 'max_depth': 5, 'min_split_gain': 0.01, 'min_child_weight': 30, 'subsample': 0.5, 'colsample_bytree': 1}\n",
      "{'num_leaves': 60, 'max_depth': 10, 'min_split_gain': 0.01, 'min_child_weight': 40, 'subsample': 0.5, 'colsample_bytree': 0.1}\n"
     ]
    },
    {
     "data": {
      "text/html": [
       "<div>\n",
       "<style scoped>\n",
       "    .dataframe tbody tr th:only-of-type {\n",
       "        vertical-align: middle;\n",
       "    }\n",
       "\n",
       "    .dataframe tbody tr th {\n",
       "        vertical-align: top;\n",
       "    }\n",
       "\n",
       "    .dataframe thead th {\n",
       "        text-align: right;\n",
       "    }\n",
       "</style>\n",
       "<table border=\"1\" class=\"dataframe\">\n",
       "  <thead>\n",
       "    <tr style=\"text-align: right;\">\n",
       "      <th></th>\n",
       "      <th>Model</th>\n",
       "      <th>Size_MB</th>\n",
       "      <th>Precision@k</th>\n",
       "      <th>Recall@k</th>\n",
       "    </tr>\n",
       "  </thead>\n",
       "  <tbody>\n",
       "    <tr>\n",
       "      <th>0</th>\n",
       "      <td>LightGBM</td>\n",
       "      <td>0.334826</td>\n",
       "      <td>0.363200</td>\n",
       "      <td>0.462201</td>\n",
       "    </tr>\n",
       "    <tr>\n",
       "      <th>1</th>\n",
       "      <td>LightGBM</td>\n",
       "      <td>0.334826</td>\n",
       "      <td>0.369081</td>\n",
       "      <td>0.469686</td>\n",
       "    </tr>\n",
       "    <tr>\n",
       "      <th>2</th>\n",
       "      <td>LightGBM</td>\n",
       "      <td>0.334826</td>\n",
       "      <td>0.364768</td>\n",
       "      <td>0.464197</td>\n",
       "    </tr>\n",
       "    <tr>\n",
       "      <th>3</th>\n",
       "      <td>LightGBM</td>\n",
       "      <td>0.334826</td>\n",
       "      <td>0.371238</td>\n",
       "      <td>0.472430</td>\n",
       "    </tr>\n",
       "    <tr>\n",
       "      <th>4</th>\n",
       "      <td>LightGBM</td>\n",
       "      <td>0.334826</td>\n",
       "      <td>0.371924</td>\n",
       "      <td>0.473303</td>\n",
       "    </tr>\n",
       "    <tr>\n",
       "      <th>5</th>\n",
       "      <td>LightGBM</td>\n",
       "      <td>0.334826</td>\n",
       "      <td>0.364474</td>\n",
       "      <td>0.463822</td>\n",
       "    </tr>\n",
       "    <tr>\n",
       "      <th>6</th>\n",
       "      <td>LightGBM</td>\n",
       "      <td>0.334826</td>\n",
       "      <td>0.364866</td>\n",
       "      <td>0.464321</td>\n",
       "    </tr>\n",
       "    <tr>\n",
       "      <th>7</th>\n",
       "      <td>LightGBM</td>\n",
       "      <td>0.334826</td>\n",
       "      <td>0.371140</td>\n",
       "      <td>0.472305</td>\n",
       "    </tr>\n",
       "    <tr>\n",
       "      <th>8</th>\n",
       "      <td>LightGBM</td>\n",
       "      <td>0.334826</td>\n",
       "      <td>0.371238</td>\n",
       "      <td>0.472430</td>\n",
       "    </tr>\n",
       "    <tr>\n",
       "      <th>9</th>\n",
       "      <td>LightGBM</td>\n",
       "      <td>0.334826</td>\n",
       "      <td>0.364082</td>\n",
       "      <td>0.463323</td>\n",
       "    </tr>\n",
       "  </tbody>\n",
       "</table>\n",
       "</div>"
      ],
      "text/plain": [
       "      Model   Size_MB  Precision@k  Recall@k\n",
       "0  LightGBM  0.334826     0.363200  0.462201\n",
       "1  LightGBM  0.334826     0.369081  0.469686\n",
       "2  LightGBM  0.334826     0.364768  0.464197\n",
       "3  LightGBM  0.334826     0.371238  0.472430\n",
       "4  LightGBM  0.334826     0.371924  0.473303\n",
       "5  LightGBM  0.334826     0.364474  0.463822\n",
       "6  LightGBM  0.334826     0.364866  0.464321\n",
       "7  LightGBM  0.334826     0.371140  0.472305\n",
       "8  LightGBM  0.334826     0.371238  0.472430\n",
       "9  LightGBM  0.334826     0.364082  0.463323"
      ]
     },
     "execution_count": 74,
     "metadata": {},
     "output_type": "execute_result"
    }
   ],
   "source": [
    "# dataframe to save model's precision@k\n",
    "precision_metrics = pd.DataFrame(columns=['Model', 'Size_MB', 'Precision@k', 'Recall@k'])\n",
    "\n",
    "# size of true values from target validation dataset\n",
    "k_size = round(20000/len(df_prod) * len(df8))\n",
    "\n",
    "for i in range( MAX_EVAL):\n",
    "    \n",
    "    # choose values for parameters randomly\n",
    "    hp = {k: rd.sample( v, 1)[0]for k, v in lgbm_parameter.items() }\n",
    "    print( hp )\n",
    "    \n",
    "    # model\n",
    "    lgbm = LGBMClassifier(num_leaves=hp['num_leaves'],\n",
    "                                  max_depth=hp['max_depth'],\n",
    "                                  min_split_gain=hp['min_split_gain'],\n",
    "                                  min_child_weight=hp['min_child_weight'],\n",
    "                                  subsample=hp['subsample'],\n",
    "                                  colsample_bytree=hp['colsample_bytree'])\n",
    "    \n",
    "    # model training\n",
    "    lgbm.fit( x_train, y_train )\n",
    "\n",
    "    # model prediction \n",
    "    yhat_lgbm = lgbm.predict_proba( x_val )\n",
    "    \n",
    "    # List of model's predictions\n",
    "    y_preds_list = {'LightGBM': [yhat_lgbm, lgbm_model]}\n",
    "\n",
    "\n",
    "   # populate df with precision@k and model's size\n",
    "    for k, v in y_preds_list.items():\n",
    "    \n",
    "        # propensity score\n",
    "        df8['propensity_score'] = v[0][:, 1].tolist()\n",
    "    \n",
    "        # calc precision@k\n",
    "        precisionatk = precision_at_k(df8, k=k_size)\n",
    "        \n",
    "        # calc recall@k\n",
    "        recallatk = recall_at_k(df8, k=k_size)        \n",
    "    \n",
    "        # calc trained model's size\n",
    "        model_size = get_size(v[1])\n",
    "    \n",
    "        # populate dataframe\n",
    "        precision_metrics = precision_metrics.append({'Model': k, 'Size_MB': model_size, 'Precision@k': precisionatk, 'Recall@k': recallatk }, ignore_index=True)\n",
    "\n",
    "precision_metrics"
   ]
  },
  {
   "cell_type": "markdown",
   "id": "8a932232",
   "metadata": {},
   "source": [
    "## 8.2 Fine Tuning Model"
   ]
  },
  {
   "cell_type": "code",
   "execution_count": 75,
   "id": "b023d09d",
   "metadata": {
    "ExecuteTime": {
     "end_time": "2022-02-07T01:31:58.471572Z",
     "start_time": "2022-02-07T01:31:55.841389Z"
    },
    "code_folding": []
   },
   "outputs": [],
   "source": [
    "#{'num_leaves': 90, 'max_depth': 7, 'min_split_gain': 0.001, 'min_child_weight': 30, 'subsample': 0.5, 'colsample_bytree': 1}\n",
    "\n",
    "\n",
    "\n",
    "model_lgbm_tuned = LGBMClassifier(objective = 'binary',\n",
    "                                num_leaves = 90,\n",
    "                                max_depth = 7,\n",
    "                                min_split_gain = 0.001,\n",
    "                                min_child_weight = 30,\n",
    "                                subsample = 0.5,\n",
    "                                colsample_bytree = 1)\n",
    "\n",
    "model_lgbm_tuned.fit(x_train,y_train)\n",
    "\n",
    "# model prediction\n",
    "val_yhat_lgbm_tuned = model_lgbm_tuned.predict_proba(x_val)"
   ]
  },
  {
   "cell_type": "markdown",
   "id": "b29563fe",
   "metadata": {
    "heading_collapsed": true
   },
   "source": [
    "### Precision and Recall @k"
   ]
  },
  {
   "cell_type": "code",
   "execution_count": 76,
   "id": "7e72cb3c",
   "metadata": {
    "ExecuteTime": {
     "end_time": "2022-02-07T01:31:59.145647Z",
     "start_time": "2022-02-07T01:31:59.089444Z"
    },
    "code_folding": [],
    "hidden": true
   },
   "outputs": [
    {
     "name": "stdout",
     "output_type": "stream",
     "text": [
      "0.3719243211449858\n",
      "0.47330339321357284\n"
     ]
    }
   ],
   "source": [
    "#size of true values from target validation dataset\n",
    "k_size = round(20000/len(df_prod) * len(df8))\n",
    "\n",
    "# add y_val to data to create score metrics \n",
    "x_validation['response'] = y_validation.copy()\n",
    "\n",
    "# propensity score\n",
    "x_validation['propensity_score'] = val_yhat_lgbm_tuned[:, 1].tolist()\n",
    "\n",
    "# calc precision@k\n",
    "validation_precision_at_k = precision_at_k(x_validation, k=k_size)\n",
    "\n",
    "# calc recall@k\n",
    "validation_recall_at_k = recall_at_k(x_validation, k=k_size)\n",
    "\n",
    "# Precision@k \n",
    "print(validation_precision_at_k)\n",
    "\n",
    "# Recall@k \n",
    "print(validation_recall_at_k)"
   ]
  },
  {
   "cell_type": "markdown",
   "id": "e16cee58",
   "metadata": {
    "heading_collapsed": true
   },
   "source": [
    "### Gain & Lift Curve"
   ]
  },
  {
   "cell_type": "code",
   "execution_count": 77,
   "id": "a136a357",
   "metadata": {
    "ExecuteTime": {
     "end_time": "2022-02-07T01:32:03.117364Z",
     "start_time": "2022-02-07T01:32:02.513748Z"
    },
    "hidden": true
   },
   "outputs": [
    {
     "data": {
      "image/png": "[encoded data removed]",
      "text/plain": [
       "<Figure size 720x360 with 2 Axes>"
      ]
     },
     "metadata": {},
     "output_type": "display_data"
    }
   ],
   "source": [
    "fig = plt.figure(figsize=(10,5))\n",
    "specs = gridspec.GridSpec(ncols=2,nrows=1)\n",
    "\n",
    "axa = fig.add_subplot(specs[0, 0]) \n",
    "axb = fig.add_subplot(specs[0, 1]) \n",
    "\n",
    "skplt.metrics.plot_cumulative_gain( y_validation, val_yhat_lgbm_tuned, ax=axa ,  title='LGBM - Cumulative Gain Curve');\n",
    "skplt.metrics.plot_lift_curve     ( y_validation, val_yhat_lgbm_tuned, ax=axb ,  title='LGBM - Lift Curve');"
   ]
  },
  {
   "cell_type": "markdown",
   "id": "e4a164e0",
   "metadata": {},
   "source": [
    "## 8.3 Final Model - Join Train & Validation Dataset"
   ]
  },
  {
   "cell_type": "code",
   "execution_count": 78,
   "id": "01a7dbbd",
   "metadata": {
    "ExecuteTime": {
     "end_time": "2022-02-07T01:32:08.913446Z",
     "start_time": "2022-02-07T01:32:08.892671Z"
    }
   },
   "outputs": [],
   "source": [
    "x_train_final = pd.concat([x_train, x_val], axis=0)\n",
    "y_train_final = pd.concat([y_train, y_validation], axis=0)\n",
    "\n",
    "df8_final = x_train_final.copy()\n",
    "df8_final['response'] = y_train_final.copy()"
   ]
  },
  {
   "cell_type": "code",
   "execution_count": 79,
   "id": "2ec6c55e",
   "metadata": {
    "ExecuteTime": {
     "end_time": "2022-02-07T01:32:35.181908Z",
     "start_time": "2022-02-07T01:32:31.431080Z"
    }
   },
   "outputs": [],
   "source": [
    "final_model = LGBMClassifier(objective = 'binary',\n",
    "                                \n",
    "                                num_leaves = 90,\n",
    "                                max_depth = 7,\n",
    "                                min_split_gain = 0.001,\n",
    "                                min_child_weight = 30,\n",
    "                                subsample = 0.5,\n",
    "                                colsample_bytree = 1)\n",
    "\n",
    "final_model.fit(x_train_final,y_train_final)\n",
    "\n",
    "# model prediction\n",
    "final_yhat_lgbm_tuned = final_model.predict_proba(x_train_final)\n",
    "\n",
    "# propensity score\n",
    "df8_final['propensity_score'] = final_yhat_lgbm_tuned[:, 1].tolist()"
   ]
  },
  {
   "cell_type": "markdown",
   "id": "8c6ebfb2",
   "metadata": {},
   "source": [
    "### Precision and Recall @k"
   ]
  },
  {
   "cell_type": "code",
   "execution_count": 80,
   "id": "a92d0a9e",
   "metadata": {
    "ExecuteTime": {
     "end_time": "2022-02-07T01:32:36.255242Z",
     "start_time": "2022-02-07T01:32:36.043306Z"
    }
   },
   "outputs": [
    {
     "name": "stdout",
     "output_type": "stream",
     "text": [
      "Precision @K: 0.3826199486284583\n",
      "Recall @K: 0.4913756200740312\n"
     ]
    }
   ],
   "source": [
    "#size of true values from target validation dataset\n",
    "k_size = round(20000/len(df_prod) * len(df8_final))\n",
    "\n",
    "# calc precision@k\n",
    "final_precision_at_k = precision_at_k(df8_final, k=k_size)\n",
    "\n",
    "# calc recall@k\n",
    "final_recall_at_k = recall_at_k(df8_final, k=k_size)\n",
    "\n",
    "# Precision@k \n",
    "print(\"Precision @K: {}\".format(final_precision_at_k))\n",
    "\n",
    "# Recall@k \n",
    "print(\"Recall @K: {}\".format(final_recall_at_k))"
   ]
  },
  {
   "cell_type": "markdown",
   "id": "927edab7",
   "metadata": {},
   "source": [
    "## 8.4 Generalization Performance and Machine Learning"
   ]
  },
  {
   "cell_type": "code",
   "execution_count": 81,
   "id": "9cd84ca6",
   "metadata": {
    "ExecuteTime": {
     "end_time": "2022-02-07T01:32:40.759037Z",
     "start_time": "2022-02-07T01:32:40.752309Z"
    }
   },
   "outputs": [],
   "source": [
    "df_test = x_test.copy()"
   ]
  },
  {
   "cell_type": "markdown",
   "id": "ec098fcd",
   "metadata": {},
   "source": [
    "### 8.4.1 Prepare Test Dataset"
   ]
  },
  {
   "cell_type": "code",
   "execution_count": 82,
   "id": "0d581a64",
   "metadata": {
    "ExecuteTime": {
     "end_time": "2022-02-07T01:32:42.499606Z",
     "start_time": "2022-02-07T01:32:42.297174Z"
    }
   },
   "outputs": [],
   "source": [
    "# ---------------------------- DATA CLEANING ----------------------------#\n",
    "# Rename columns\n",
    "cols_new = ['id', 'gender', 'age', 'driving_license', 'region_code', 'previously_insured', 'vehicle_age', \n",
    "            'vehicle_damage', 'annual_premium', 'policy_sales_channel', 'vintage']\n",
    "\n",
    "df_test.columns = cols_new\n",
    "\n",
    "df_test['policy_sales_channel'] = df_test['policy_sales_channel'].astype(int)\n",
    "df_test['region_code'] = df_test['region_code'].astype(int)\n",
    "\n",
    "# ------------------------- FEATURE ENGINEERING -------------------------#\n",
    "# Change feature vehicle age \n",
    "df_test['vehicle_age'] = df_test['vehicle_age'].apply( lambda x: 'over_2_years' if x == '> 2 Years' else 'between_1_2_year' if x == '1-2 Year' else 'below_1_year')\n",
    "\n",
    "# Change feature vehicle damage\n",
    "df_test['vehicle_damage'] = df_test['vehicle_damage'].apply( lambda x: 1 if x == 'Yes' else 0)\n",
    "\n",
    "# ------------------------- DATA PREPARATION -------------------------#\n",
    "\n",
    "# annual_premium\n",
    "df_test.loc[:, 'annual_premium'] = ss.fit_transform( df_test[['annual_premium']].values)\n",
    "\n",
    "# age\n",
    "df_test.loc[:, 'age'] = mms_age.fit_transform( df_test[['age']].values )\n",
    "\n",
    "# vintage\n",
    "df_test.loc[:, 'vintage'] = mms_vintage.fit_transform( df_test[['vintage']].values )\n",
    "\n",
    "# gender\n",
    "df_test.loc[:, 'gender'] = df_test.loc[:, 'gender'].map( target_encode_gender )\n",
    "\n",
    "# region_code\n",
    "df_test.loc[:, 'region_code'] = df_test.loc[:, 'region_code'].map( target_encode_region_code )\n",
    "\n",
    "# vehicle_age\n",
    "df_test = pd.get_dummies( df_test, prefix='vehicle_age', columns=['vehicle_age'] )\n",
    "\n",
    "# policy_sales_channel\n",
    "df_test.loc[:, 'policy_sales_channel'] = df_test['policy_sales_channel'].map( fe_policy_sales_channel )\n",
    "\n",
    "# ----------------------- FEATURE SELECION -------------------------------------------------\n",
    "\n",
    "df_test = df_test[['annual_premium','vintage', 'age', 'region_code', 'vehicle_damage', 'policy_sales_channel', 'previously_insured']]"
   ]
  },
  {
   "cell_type": "markdown",
   "id": "e96850b2",
   "metadata": {},
   "source": [
    "### 8.4.2 Apply Model"
   ]
  },
  {
   "cell_type": "code",
   "execution_count": 83,
   "id": "fb373946",
   "metadata": {
    "ExecuteTime": {
     "end_time": "2022-02-07T01:32:45.448349Z",
     "start_time": "2022-02-07T01:32:45.215681Z"
    }
   },
   "outputs": [],
   "source": [
    "# predict x_test\n",
    "prob_test = final_model.predict_proba(df_test)\n",
    "\n",
    "# size of true values from target test dataset\n",
    "k_size = round(20000/len(df_prod) * len(df_test))\n",
    "\n",
    "# add y_val to data to create score metrics \n",
    "df_test['response'] = y_test.copy()\n",
    "\n",
    "# propensity score\n",
    "df_test['propensity_score'] = prob_test[:, 1].tolist()\n",
    "\n",
    "# calc precision@k\n",
    "test_precision_at_k = precision_at_k(df_test, k=k_size)\n",
    "\n",
    "# calc recall@k\n",
    "test_recall_at_k = recall_at_k(df_test, k=k_size)"
   ]
  },
  {
   "cell_type": "markdown",
   "id": "515b51fb",
   "metadata": {},
   "source": [
    "### 8.4.3 Learning and Generalization"
   ]
  },
  {
   "cell_type": "code",
   "execution_count": 84,
   "id": "2e7abbe4",
   "metadata": {
    "ExecuteTime": {
     "end_time": "2022-02-07T01:32:50.363024Z",
     "start_time": "2022-02-07T01:32:50.346488Z"
    }
   },
   "outputs": [
    {
     "data": {
      "text/html": [
       "<div>\n",
       "<style scoped>\n",
       "    .dataframe tbody tr th:only-of-type {\n",
       "        vertical-align: middle;\n",
       "    }\n",
       "\n",
       "    .dataframe tbody tr th {\n",
       "        vertical-align: top;\n",
       "    }\n",
       "\n",
       "    .dataframe thead th {\n",
       "        text-align: right;\n",
       "    }\n",
       "</style>\n",
       "<table border=\"1\" class=\"dataframe\">\n",
       "  <thead>\n",
       "    <tr style=\"text-align: right;\">\n",
       "      <th></th>\n",
       "      <th>Data</th>\n",
       "      <th>Precision@k</th>\n",
       "      <th>Recall@k</th>\n",
       "    </tr>\n",
       "  </thead>\n",
       "  <tbody>\n",
       "    <tr>\n",
       "      <th>0</th>\n",
       "      <td>Validation</td>\n",
       "      <td>0.371924</td>\n",
       "      <td>0.473303</td>\n",
       "    </tr>\n",
       "    <tr>\n",
       "      <th>1</th>\n",
       "      <td>Test</td>\n",
       "      <td>0.326964</td>\n",
       "      <td>0.420609</td>\n",
       "    </tr>\n",
       "  </tbody>\n",
       "</table>\n",
       "</div>"
      ],
      "text/plain": [
       "         Data  Precision@k  Recall@k\n",
       "0  Validation     0.371924  0.473303\n",
       "1        Test     0.326964  0.420609"
      ]
     },
     "execution_count": 84,
     "metadata": {},
     "output_type": "execute_result"
    }
   ],
   "source": [
    "pd.DataFrame({'Data': ['Validation', 'Test'], 'Precision@k': [validation_precision_at_k, test_precision_at_k], 'Recall@k': [validation_recall_at_k, test_recall_at_k] })"
   ]
  },
  {
   "cell_type": "code",
   "execution_count": 85,
   "id": "529b5010",
   "metadata": {
    "ExecuteTime": {
     "end_time": "2022-02-07T01:32:57.677096Z",
     "start_time": "2022-02-07T01:32:56.480921Z"
    },
    "hide_input": false,
    "scrolled": false
   },
   "outputs": [
    {
     "data": {
      "image/png": "[encoded data removed]",
      "text/plain": [
       "<Figure size 1440x864 with 4 Axes>"
      ]
     },
     "metadata": {},
     "output_type": "display_data"
    }
   ],
   "source": [
    "fig, ax = plt.subplots(ncols=2, nrows=2, figsize=(20,12))\n",
    "\n",
    "# ----------- Validation ------------------#\n",
    "\n",
    "skplt.metrics.plot_cumulative_gain( y_validation, val_yhat_lgbm_tuned, title='LGBM - Cumulative Gain Curve - Validation', ax=ax[0,0]);\n",
    "skplt.metrics.plot_lift_curve     ( y_validation, val_yhat_lgbm_tuned, title='LGBM - Lift Curve - Validation', ax=ax[0,1]);\n",
    "\n",
    "# -------------- Test --------------------#\n",
    "\n",
    "skplt.metrics.plot_cumulative_gain( y_test, prob_test,  title='LGBM - Cumulative Gain Curve - Test', ax=ax[1,0]);\n",
    "skplt.metrics.plot_lift_curve     ( y_test, prob_test, title='LGBM - Lift Curve - Test', ax=ax[1,1]);"
   ]
  },
  {
   "cell_type": "markdown",
   "id": "b24e472f",
   "metadata": {},
   "source": [
    "# 9.0 BUSINESS PERFORMANCE - PRODUCTION DATA"
   ]
  },
  {
   "cell_type": "markdown",
   "id": "352738d0",
   "metadata": {},
   "source": [
    "- What percentage of customers interested in buying auto insurance can the sales team reach with 20,000 calls?\n",
    "\n",
    "\n",
    "- And if the sales force's capacity increases to 40,000 calls, what percentage of customers interested in purchasing auto insurance can the sales force contact?\n",
    "\n",
    "\n",
    "- How many calls does the sales team need to make to contact 80% of customers interested in purchasing auto insurance?\n",
    "\n",
    "\n",
    "- What will be the revenue expectation with the new customer base?"
   ]
  },
  {
   "cell_type": "code",
   "execution_count": 120,
   "id": "2ddeca2e",
   "metadata": {
    "ExecuteTime": {
     "end_time": "2022-02-07T01:41:37.451888Z",
     "start_time": "2022-02-07T01:41:37.443063Z"
    }
   },
   "outputs": [],
   "source": [
    "df9 = df_prod.copy()\n",
    "df9_final = df9.copy()"
   ]
  },
  {
   "cell_type": "code",
   "execution_count": 121,
   "id": "f5ba66b7",
   "metadata": {
    "ExecuteTime": {
     "end_time": "2022-02-07T01:41:40.137827Z",
     "start_time": "2022-02-07T01:41:39.809244Z"
    },
    "code_folding": []
   },
   "outputs": [],
   "source": [
    "# ---------------------------- DATA CLEANING ----------------------------#\n",
    "# Change columns names to lowercase\n",
    "df9.columns = ['id', 'gender', 'age', 'driving_license', 'region_code', 'previously_insured', 'vehicle_age', 'vehicle_damage', 'annual_premium', 'policy_sales_channel','vintage']\n",
    "\n",
    "df9['policy_sales_channel'] = df9['policy_sales_channel'].astype(int)\n",
    "df9['region_code'] = df9['region_code'].astype(int)\n",
    "\n",
    "# ------------------------- FEATURE ENGINEERING -------------------------#\n",
    "# Change feature vehicle age \n",
    "df9['vehicle_age'] = df9['vehicle_age'].apply( lambda x: 'over_2_years' if x == '> 2 Years' else 'between_1_2_year' if x == '1-2 Year' else 'below_1_year')\n",
    "\n",
    "# Change feature vehicle damage\n",
    "df9['vehicle_damage'] = df9['vehicle_damage'].apply( lambda x: 1 if x == 'Yes' else 0)\n",
    "\n",
    "# ------------------------- DATA PREPARATION -------------------------#\n",
    "\n",
    "# annual_premium\n",
    "df9.loc[:, 'annual_premium'] = ss.fit_transform( df9[['annual_premium']].values)\n",
    "\n",
    "# age\n",
    "df9.loc[:, 'age'] = mms_age.fit_transform( df9[['age']].values )\n",
    "\n",
    "# vintage\n",
    "df9.loc[:, 'vintage'] = mms_vintage.fit_transform( df9[['vintage']].values )\n",
    "\n",
    "# gender\n",
    "df9.loc[:, 'gender'] = df9.loc[:, 'gender'].map( target_encode_gender )\n",
    "\n",
    "# region_code\n",
    "df9.loc[:, 'region_code'] = df9.loc[:, 'region_code'].map( target_encode_region_code )\n",
    "\n",
    "# vehicle_age\n",
    "df9 = pd.get_dummies( df9, prefix='vehicle_age', columns=['vehicle_age'] )\n",
    "\n",
    "# policy_sales_channel\n",
    "df9.loc[:, 'policy_sales_channel'] = df9['policy_sales_channel'].map( fe_policy_sales_channel )\n",
    "\n",
    "# ----------------------- FEATURE SELECION -------------------------------------------------\n",
    "\n",
    "df9 = df9[['annual_premium','vintage', 'age', 'region_code', 'vehicle_damage', 'policy_sales_channel', 'previously_insured']]"
   ]
  },
  {
   "cell_type": "code",
   "execution_count": 122,
   "id": "027a9ab1",
   "metadata": {
    "ExecuteTime": {
     "end_time": "2022-02-07T01:41:47.737304Z",
     "start_time": "2022-02-07T01:41:47.205966Z"
    },
    "code_folding": []
   },
   "outputs": [
    {
     "data": {
      "text/html": [
       "<div>\n",
       "<style scoped>\n",
       "    .dataframe tbody tr th:only-of-type {\n",
       "        vertical-align: middle;\n",
       "    }\n",
       "\n",
       "    .dataframe tbody tr th {\n",
       "        vertical-align: top;\n",
       "    }\n",
       "\n",
       "    .dataframe thead th {\n",
       "        text-align: right;\n",
       "    }\n",
       "</style>\n",
       "<table border=\"1\" class=\"dataframe\">\n",
       "  <thead>\n",
       "    <tr style=\"text-align: right;\">\n",
       "      <th></th>\n",
       "      <th>id</th>\n",
       "      <th>Gender</th>\n",
       "      <th>Age</th>\n",
       "      <th>Driving_License</th>\n",
       "      <th>Region_Code</th>\n",
       "      <th>Previously_Insured</th>\n",
       "      <th>Vehicle_Age</th>\n",
       "      <th>Vehicle_Damage</th>\n",
       "      <th>Annual_Premium</th>\n",
       "      <th>Policy_Sales_Channel</th>\n",
       "      <th>Vintage</th>\n",
       "      <th>propensity_score</th>\n",
       "      <th>ranking</th>\n",
       "    </tr>\n",
       "  </thead>\n",
       "  <tbody>\n",
       "    <tr>\n",
       "      <th>0</th>\n",
       "      <td>474441</td>\n",
       "      <td>Male</td>\n",
       "      <td>33</td>\n",
       "      <td>1</td>\n",
       "      <td>41.0</td>\n",
       "      <td>0</td>\n",
       "      <td>&lt; 1 Year</td>\n",
       "      <td>Yes</td>\n",
       "      <td>20153.0</td>\n",
       "      <td>155.0</td>\n",
       "      <td>58</td>\n",
       "      <td>0.607350</td>\n",
       "      <td>1</td>\n",
       "    </tr>\n",
       "    <tr>\n",
       "      <th>1</th>\n",
       "      <td>385213</td>\n",
       "      <td>Female</td>\n",
       "      <td>30</td>\n",
       "      <td>1</td>\n",
       "      <td>41.0</td>\n",
       "      <td>0</td>\n",
       "      <td>1-2 Year</td>\n",
       "      <td>Yes</td>\n",
       "      <td>32660.0</td>\n",
       "      <td>155.0</td>\n",
       "      <td>102</td>\n",
       "      <td>0.599226</td>\n",
       "      <td>2</td>\n",
       "    </tr>\n",
       "    <tr>\n",
       "      <th>2</th>\n",
       "      <td>383922</td>\n",
       "      <td>Male</td>\n",
       "      <td>34</td>\n",
       "      <td>1</td>\n",
       "      <td>3.0</td>\n",
       "      <td>0</td>\n",
       "      <td>1-2 Year</td>\n",
       "      <td>Yes</td>\n",
       "      <td>22828.0</td>\n",
       "      <td>155.0</td>\n",
       "      <td>141</td>\n",
       "      <td>0.583528</td>\n",
       "      <td>3</td>\n",
       "    </tr>\n",
       "    <tr>\n",
       "      <th>3</th>\n",
       "      <td>383667</td>\n",
       "      <td>Female</td>\n",
       "      <td>33</td>\n",
       "      <td>1</td>\n",
       "      <td>41.0</td>\n",
       "      <td>0</td>\n",
       "      <td>1-2 Year</td>\n",
       "      <td>Yes</td>\n",
       "      <td>31657.0</td>\n",
       "      <td>155.0</td>\n",
       "      <td>132</td>\n",
       "      <td>0.579828</td>\n",
       "      <td>4</td>\n",
       "    </tr>\n",
       "    <tr>\n",
       "      <th>4</th>\n",
       "      <td>428306</td>\n",
       "      <td>Female</td>\n",
       "      <td>33</td>\n",
       "      <td>1</td>\n",
       "      <td>3.0</td>\n",
       "      <td>0</td>\n",
       "      <td>1-2 Year</td>\n",
       "      <td>Yes</td>\n",
       "      <td>29617.0</td>\n",
       "      <td>155.0</td>\n",
       "      <td>130</td>\n",
       "      <td>0.579231</td>\n",
       "      <td>5</td>\n",
       "    </tr>\n",
       "  </tbody>\n",
       "</table>\n",
       "</div>"
      ],
      "text/plain": [
       "       id  Gender  Age  Driving_License  Region_Code  Previously_Insured Vehicle_Age Vehicle_Damage  Annual_Premium  Policy_Sales_Channel  Vintage  propensity_score  ranking\n",
       "0  474441    Male   33                1         41.0                   0    < 1 Year            Yes         20153.0                 155.0       58          0.607350        1\n",
       "1  385213  Female   30                1         41.0                   0    1-2 Year            Yes         32660.0                 155.0      102          0.599226        2\n",
       "2  383922    Male   34                1          3.0                   0    1-2 Year            Yes         22828.0                 155.0      141          0.583528        3\n",
       "3  383667  Female   33                1         41.0                   0    1-2 Year            Yes         31657.0                 155.0      132          0.579828        4\n",
       "4  428306  Female   33                1          3.0                   0    1-2 Year            Yes         29617.0                 155.0      130          0.579231        5"
      ]
     },
     "execution_count": 122,
     "metadata": {},
     "output_type": "execute_result"
    }
   ],
   "source": [
    "# predict x_test\n",
    "prob_prod = final_model.predict_proba(df9)\n",
    "\n",
    "# propensity score\n",
    "df9_final['propensity_score'] = prob_prod[:, 1].tolist()\n",
    "\n",
    "df9_final = df9_final.sort_values('propensity_score',ascending=False)\n",
    "df9_final = df9_final.reset_index(drop=True)\n",
    "df9_final['ranking']= df9_final.index+1\n",
    "df9_final.head()"
   ]
  },
  {
   "cell_type": "markdown",
   "id": "f1e99504",
   "metadata": {},
   "source": [
    "## 9.1 - 20.000 Calls"
   ]
  },
  {
   "cell_type": "code",
   "execution_count": 134,
   "id": "75d620bc",
   "metadata": {
    "ExecuteTime": {
     "end_time": "2022-02-07T01:44:01.637425Z",
     "start_time": "2022-02-07T01:44:01.631024Z"
    }
   },
   "outputs": [
    {
     "name": "stdout",
     "output_type": "stream",
     "text": [
      "20k calls represent: 15.74%\n"
     ]
    }
   ],
   "source": [
    "calls_20k = ((20000*100) / len(df9_final))/100\n",
    "print('20k calls represent: {:.2f}%'.format(calls_20k*100) )"
   ]
  },
  {
   "cell_type": "code",
   "execution_count": 135,
   "id": "9d0f8105",
   "metadata": {
    "ExecuteTime": {
     "end_time": "2022-02-07T01:44:03.404949Z",
     "start_time": "2022-02-07T01:44:03.367036Z"
    }
   },
   "outputs": [
    {
     "name": "stdout",
     "output_type": "stream",
     "text": [
      "Precision at 20k: 0.327 \n",
      "Recall at 20k: 0.421 \n"
     ]
    }
   ],
   "source": [
    "k_size = round(calls_20k * df_test.shape[0])\n",
    "precision_at_20k = precision_at_k(df_test, k=k_size)\n",
    "recall_at_20k = recall_at_k(df_test, k=k_size)\n",
    "\n",
    "print('Precision at 20k: {:.3f} '.format(precision_at_20k) )\n",
    "print('Recall at 20k: {:.3f} '.format(recall_at_20k) )"
   ]
  },
  {
   "cell_type": "code",
   "execution_count": 136,
   "id": "89cc2fc3",
   "metadata": {
    "ExecuteTime": {
     "end_time": "2022-02-07T01:44:05.664487Z",
     "start_time": "2022-02-07T01:44:05.239212Z"
    }
   },
   "outputs": [
    {
     "name": "stdout",
     "output_type": "stream",
     "text": [
      "With 20,000 calls, which represents 15.74% of the dataset, we can contact approximately 42.5% of customers interested in the dataset\n"
     ]
    },
    {
     "data": {
      "image/png": "[encoded data removed]",
      "text/plain": [
       "<Figure size 1080x720 with 1 Axes>"
      ]
     },
     "metadata": {},
     "output_type": "display_data"
    }
   ],
   "source": [
    "# Gain Curve\n",
    "skplt.metrics.plot_cumulative_gain( y_test, prob_test, title='LGBM - Cumulative Gain Curve - Production',figsize=(15,10));\n",
    "plt.axvline(x=calls_20k).set_linestyle('--')\n",
    "plt.axhline(y=0.425).set_linestyle('--');\n",
    "print('With 20,000 calls, which represents 15.74% of the dataset, we can contact approximately 42.5% of customers interested in the dataset')"
   ]
  },
  {
   "cell_type": "code",
   "execution_count": 137,
   "id": "5b7c3194",
   "metadata": {
    "ExecuteTime": {
     "end_time": "2022-02-07T01:44:12.461415Z",
     "start_time": "2022-02-07T01:44:12.135420Z"
    }
   },
   "outputs": [
    {
     "name": "stdout",
     "output_type": "stream",
     "text": [
      "With 20,000 calls our result will be approximately 2.7x better than the aleatory result\n"
     ]
    },
    {
     "data": {
      "image/png": "[encoded data removed]",
      "text/plain": [
       "<Figure size 1080x720 with 1 Axes>"
      ]
     },
     "metadata": {},
     "output_type": "display_data"
    }
   ],
   "source": [
    "# Lift Curve\n",
    "skplt.metrics.plot_lift_curve( y_test, prob_test, title='LGBM - Lift Curve - Production',figsize=(15,10));\n",
    "plt.axvline(x=calls_20k).set_linestyle('--')\n",
    "plt.axhline(y=2.7).set_linestyle('--');\n",
    "print('With 20,000 calls our result will be approximately 2.7x better than the aleatory result')"
   ]
  },
  {
   "cell_type": "markdown",
   "id": "d99b1d2a",
   "metadata": {},
   "source": [
    "## 9.2 - 40.000 Calls"
   ]
  },
  {
   "cell_type": "code",
   "execution_count": 138,
   "id": "7873935b",
   "metadata": {
    "ExecuteTime": {
     "end_time": "2022-02-07T01:44:19.562852Z",
     "start_time": "2022-02-07T01:44:19.558542Z"
    }
   },
   "outputs": [
    {
     "name": "stdout",
     "output_type": "stream",
     "text": [
      "40k calls represent: 31.49%\n"
     ]
    }
   ],
   "source": [
    "calls_40k = ((40000*100) / len(df_prod))/100\n",
    "print('40k calls represent: {:.2f}%'.format(calls_40k*100) )"
   ]
  },
  {
   "cell_type": "code",
   "execution_count": 139,
   "id": "73e4bdd3",
   "metadata": {
    "ExecuteTime": {
     "end_time": "2022-02-07T01:44:20.627484Z",
     "start_time": "2022-02-07T01:44:20.583303Z"
    }
   },
   "outputs": [
    {
     "name": "stdout",
     "output_type": "stream",
     "text": [
      "Precision at 40k: 0.269 \n",
      "Recall at 40k: 0.693 \n"
     ]
    }
   ],
   "source": [
    "k_size = round(calls_40k * df_test.shape[0])\n",
    "precision_at_40k = precision_at_k(df_test, k=k_size)\n",
    "recall_at_40k = recall_at_k(df_test, k=k_size)\n",
    "\n",
    "print('Precision at 40k: {:.3f} '.format(precision_at_40k) )\n",
    "print('Recall at 40k: {:.3f} '.format(recall_at_40k) )"
   ]
  },
  {
   "cell_type": "code",
   "execution_count": 140,
   "id": "40ab74b0",
   "metadata": {
    "ExecuteTime": {
     "end_time": "2022-02-07T01:44:22.325088Z",
     "start_time": "2022-02-07T01:44:21.984282Z"
    },
    "hide_input": false
   },
   "outputs": [
    {
     "name": "stdout",
     "output_type": "stream",
     "text": [
      "With 40,000 calls, which represents 31.48% of the dataset, we can contact approximately 69% of customers interested in the dataset\n"
     ]
    },
    {
     "data": {
      "image/png": "[encoded data removed]",
      "text/plain": [
       "<Figure size 1080x720 with 1 Axes>"
      ]
     },
     "metadata": {},
     "output_type": "display_data"
    }
   ],
   "source": [
    "# Gain Curve\n",
    "skplt.metrics.plot_cumulative_gain( y_test, prob_test, title='LGBM - Cumulative Gain Curve - Production',figsize=(15,10));\n",
    "plt.axvline(x=calls_40k).set_linestyle('--')\n",
    "plt.axhline(y=0.691).set_linestyle('--');\n",
    "print('With 40,000 calls, which represents 31.48% of the dataset, we can contact approximately 69% of customers interested in the dataset')"
   ]
  },
  {
   "cell_type": "code",
   "execution_count": 141,
   "id": "8dfd68b5",
   "metadata": {
    "ExecuteTime": {
     "end_time": "2022-02-07T01:44:28.941624Z",
     "start_time": "2022-02-07T01:44:28.566026Z"
    },
    "code_folding": [],
    "hide_input": false
   },
   "outputs": [
    {
     "name": "stdout",
     "output_type": "stream",
     "text": [
      "With 40,000 calls our result will be approximately 2.2x better than the random result\n"
     ]
    },
    {
     "data": {
      "image/png": "[encoded data removed]",
      "text/plain": [
       "<Figure size 1080x720 with 1 Axes>"
      ]
     },
     "metadata": {},
     "output_type": "display_data"
    }
   ],
   "source": [
    "# Lift Curve\n",
    "skplt.metrics.plot_lift_curve( y_test, prob_test, title='LGBM - Lift Curve - Production',figsize=(15,10));\n",
    "plt.axvline(x=calls_40k).set_linestyle('--')\n",
    "plt.axhline(y=2.2).set_linestyle('--');\n",
    "print('With 40,000 calls our result will be approximately 2.2x better than the random result')"
   ]
  },
  {
   "cell_type": "markdown",
   "id": "5f547db0",
   "metadata": {},
   "source": [
    "## 9.3 Question - How many calls does the sales team need to make to reach 80% of customers interested in purchasing auto insurance?"
   ]
  },
  {
   "cell_type": "code",
   "execution_count": 142,
   "id": "11e81da8",
   "metadata": {
    "ExecuteTime": {
     "end_time": "2022-02-07T01:44:35.359912Z",
     "start_time": "2022-02-07T01:44:35.048216Z"
    }
   },
   "outputs": [
    {
     "name": "stdout",
     "output_type": "stream",
     "text": [
      "80% of interested customers represents 38% of the customers in the dataset.\n",
      "Will be necessary 48274 calls to contact 80% of the customers interested in the vehicle insurance.\n"
     ]
    },
    {
     "data": {
      "image/png": "[encoded data removed]",
      "text/plain": [
       "<Figure size 1080x720 with 1 Axes>"
      ]
     },
     "metadata": {},
     "output_type": "display_data"
    }
   ],
   "source": [
    "skplt.metrics.plot_cumulative_gain(y_test, prob_test, title='Cumulative Gains Curve - LGBM - Production', figsize=(15,10));\n",
    "plt.axhline(y=0.8, linestyle='--');\n",
    "plt.axvline(x=0.38).set_linestyle('--');\n",
    "\n",
    "print('80% of interested customers represents 38% of the customers in the dataset.')\n",
    "print(f'Will be necessary {len(df9_final) * 0.38:.0f} calls to contact 80% of the customers interested in the vehicle insurance.')"
   ]
  },
  {
   "cell_type": "code",
   "execution_count": 143,
   "id": "8a0410ff",
   "metadata": {
    "ExecuteTime": {
     "end_time": "2022-02-07T01:44:38.299132Z",
     "start_time": "2022-02-07T01:44:37.991387Z"
    }
   },
   "outputs": [
    {
     "name": "stdout",
     "output_type": "stream",
     "text": [
      "With 48274 calls the result will be approximately 2.10x better than the random result\n"
     ]
    },
    {
     "data": {
      "image/png": "[encoded data removed]",
      "text/plain": [
       "<Figure size 1080x720 with 1 Axes>"
      ]
     },
     "metadata": {},
     "output_type": "display_data"
    }
   ],
   "source": [
    "skplt.metrics.plot_lift_curve( y_test, prob_test, title='LGBM - Lift Curve - Production',figsize=(15,10));\n",
    "plt.axvline(x=0.38).set_linestyle('--')\n",
    "plt.axhline(y=2.10).set_linestyle('--');\n",
    "\n",
    "print(f'With {len(df9_final) * 0.38:.0f} calls the result will be approximately 2.10x better than the random result')"
   ]
  },
  {
   "cell_type": "markdown",
   "id": "11ae663e",
   "metadata": {},
   "source": [
    "## 9.4 Financial Results"
   ]
  },
  {
   "cell_type": "markdown",
   "id": "f7884fb3",
   "metadata": {
    "ExecuteTime": {
     "end_time": "2022-01-11T23:35:18.991920Z",
     "start_time": "2022-01-11T23:35:18.981880Z"
    }
   },
   "source": [
    " - Whereas the average value of auto insurance is $1,674 (according to 2022 data extracted from Quadrant Information Services) and;\n",
    "\n",
    "- Assuming the cost to individual for each marketing campaign (phone contact) is 1% of the product value - $16.74"
   ]
  },
  {
   "cell_type": "markdown",
   "id": "3fb7970d",
   "metadata": {},
   "source": [
    "### 9.4.1 Expected profit making 20,000 calls"
   ]
  },
  {
   "cell_type": "code",
   "execution_count": 144,
   "id": "56e720b9",
   "metadata": {
    "ExecuteTime": {
     "end_time": "2022-02-07T01:44:43.613893Z",
     "start_time": "2022-02-07T01:44:43.606892Z"
    }
   },
   "outputs": [
    {
     "name": "stdout",
     "output_type": "stream",
     "text": [
      "Expected annual profit with random choice: US$ 397742400.00 \n",
      "Expected annual profit with model: US$ 1023192025.69 \n",
      "\n",
      "Difference in US$: 625449625.69 \n",
      "\n",
      "Difference in %: 157.25% \n"
     ]
    }
   ],
   "source": [
    "r = (20000/len(df9_final)) * 127037\n",
    "m  = (40.5/100) * 127037\n",
    "\n",
    "# Cost\n",
    "x_cost = r * (16.74*12) \n",
    "y_cost = m * (16.74*12) \n",
    "\n",
    "# Revenue\n",
    "x_rev = r * (1674*12) \n",
    "y_rev = m * (1674*12) \n",
    "\n",
    "# Profit\n",
    "random_profit = x_rev - x_cost\n",
    "model_profit = y_rev - y_cost\n",
    "dif = model_profit - random_profit\n",
    "percent = (dif / random_profit)*100\n",
    "\n",
    "print('Expected annual profit with random choice: US$ {:.2f} '.format(random_profit))\n",
    "print('Expected annual profit with model: US$ {:.2f} '.format(model_profit))\n",
    "print('\\nDifference in US$: {:.2f} '.format(dif) )\n",
    "print('\\nDifference in %: {:.2f}% '.format(percent) )"
   ]
  },
  {
   "cell_type": "markdown",
   "id": "46e3ed0b",
   "metadata": {},
   "source": [
    "### 9.4.2 Expected profit making 40,000 calls"
   ]
  },
  {
   "cell_type": "code",
   "execution_count": 145,
   "id": "36eb2ab9",
   "metadata": {
    "ExecuteTime": {
     "end_time": "2022-02-07T01:44:49.196438Z",
     "start_time": "2022-02-07T01:44:49.186514Z"
    }
   },
   "outputs": [
    {
     "name": "stdout",
     "output_type": "stream",
     "text": [
      "Expected annual profit with random choice: US$ 795484800.00 \n",
      "Expected annual profit with model: US$ 1717952043.14 \n",
      "\n",
      "Difference in US$: 922467243.14 \n",
      "\n",
      "Difference in %: 115.96% \n"
     ]
    }
   ],
   "source": [
    "r = (40000/len(df9_final)) * 127037\n",
    "m  = (68/100) * 127037\n",
    "\n",
    "# Cost\n",
    "x_cost = r * (16.74*12) \n",
    "y_cost = m * (16.74*12) \n",
    "\n",
    "# Revenue\n",
    "x_rev = r * (1674*12) \n",
    "y_rev = m * (1674*12) \n",
    "\n",
    "# Profit\n",
    "random_profit = x_rev - x_cost\n",
    "model_profit = y_rev - y_cost\n",
    "dif = model_profit - random_profit\n",
    "percent = (dif / random_profit)*100\n",
    "\n",
    "print('Expected annual profit with random choice: US$ {:.2f} '.format(random_profit))\n",
    "print('Expected annual profit with model: US$ {:.2f} '.format(model_profit))\n",
    "print('\\nDifference in US$: {:.2f} '.format(dif) )\n",
    "print('\\nDifference in %: {:.2f}% '.format(percent) )"
   ]
  },
  {
   "cell_type": "markdown",
   "id": "fe7ca8e8",
   "metadata": {},
   "source": [
    "# 10.0 DEPLOY TO PRODUCTION"
   ]
  },
  {
   "cell_type": "code",
   "execution_count": 123,
   "id": "d4fc0b8d",
   "metadata": {
    "ExecuteTime": {
     "end_time": "2022-02-07T01:42:17.105236Z",
     "start_time": "2022-02-07T01:42:17.078533Z"
    }
   },
   "outputs": [],
   "source": [
    "# Save Trained Model\n",
    "pickle.dump(final_model, open('/home/felipe_rastelli/repositorios/pa004_health_insurance_cross_sell/health_insurance_cross-sell/src/model/model_health_insurance_final.pkl', 'wb'))"
   ]
  },
  {
   "cell_type": "code",
   "execution_count": 90,
   "id": "e2cbbf64",
   "metadata": {
    "ExecuteTime": {
     "end_time": "2022-02-07T01:33:29.590070Z",
     "start_time": "2022-02-07T01:33:29.586337Z"
    }
   },
   "outputs": [
    {
     "name": "stdout",
     "output_type": "stream",
     "text": [
      "LGBM object size: 581.01 KB\n"
     ]
    }
   ],
   "source": [
    "print('LGBM object size: {0:.2f} KB'.format(os.stat('/home/felipe_rastelli/repositorios/pa004_health_insurance_cross_sell/health_insurance_cross-sell/src/model/model_health_insurance_final.pkl').st_size/1024))"
   ]
  },
  {
   "cell_type": "markdown",
   "id": "0c083e6f",
   "metadata": {
    "heading_collapsed": true
   },
   "source": [
    "## 10.1 Health Insurance Class"
   ]
  },
  {
   "cell_type": "code",
   "execution_count": null,
   "id": "ea93b1e0",
   "metadata": {
    "ExecuteTime": {
     "end_time": "2022-02-06T16:35:31.972572Z",
     "start_time": "2022-02-06T16:34:49.297Z"
    },
    "code_folding": [],
    "hidden": true
   },
   "outputs": [],
   "source": [
    "import pickle\n",
    "import numpy  as np\n",
    "import pandas as pd\n",
    "\n",
    "class HealthInsurance(object):\n",
    "   \n",
    "    def __init__( self ):\n",
    "        self.home_path = '/home/felipe_rastelli/repositorios/pa004_health_insurance_cross_sell/health_insurance_cross-sell/'\n",
    "        self.annual_premium_scaler =            pickle.load( open( self.home_path + 'src/features/annual_premium_scaler.pkl', 'rb' ) )\n",
    "        self.age_scaler =                       pickle.load( open( self.home_path + 'src/features/age_scaler.pkl', 'rb' ) ) \n",
    "        self.vintage_scaler =                   pickle.load( open( self.home_path + 'src/features/vintage_scaler.pkl', 'rb' ) ) \n",
    "        self.target_encode_gender_scaler =      pickle.load( open( self.home_path + 'src/features/target_encode_gender_scaler.pkl', 'rb' ) )\n",
    "        self.target_encode_region_code_scaler = pickle.load( open( self.home_path + 'src/features/target_encode_region_code_scaler.pkl', 'rb' ) )\n",
    "        self.fe_policy_sales_channel_scaler =   pickle.load( open( self.home_path + 'src/features/fe_policy_sales_channel_scaler.pkl', 'rb' ) )\n",
    "        \n",
    "    def data_cleaning( self, df1 ):\n",
    "        \n",
    "        df1.columns = ['id', 'gender', 'age', 'driving_license', 'region_code', 'previously_insured', 'vehicle_age', 'vehicle_damage', 'annual_premium', 'policy_sales_channel','vintage']\n",
    "        df1['policy_sales_channel'] = df1['policy_sales_channel'].astype(int)\n",
    "        df1['region_code'] = df1['region_code'].astype(int)\n",
    "\n",
    "        return df1 \n",
    "    \n",
    "    def feature_engineering( self, df2 ):\n",
    "        \n",
    "        # Change feature vehicle age \n",
    "        df2['vehicle_age'] = df2['vehicle_age'].apply( lambda x: 'over_2_years' if x == '> 2 Years' else 'between_1_2_year' if x == '1-2 Year' else 'below_1_year')\n",
    "\n",
    "        # Change feature vehicle damage\n",
    "        df2['vehicle_damage'] = df2['vehicle_damage'].apply( lambda x: 1 if x == 'Yes' else 0)\n",
    "        \n",
    "        return df2\n",
    "    \n",
    "    def data_preparation( self, df3 ):\n",
    "        \n",
    "        # anual premium - StandardScaler\n",
    "        df3['annual_premium'] = self.annual_premium_scaler.transform( df3[['annual_premium']].values )\n",
    "\n",
    "        # Age - MinMaxScaler\n",
    "        df3['age'] = self.age_scaler.transform( df3[['age']].values )\n",
    "\n",
    "        # Vintage - MinMaxScaler\n",
    "        df3['vintage'] = self.vintage_scaler.transform( df3[['vintage']].values )\n",
    "\n",
    "        # gender - Target Encoding\n",
    "        df3.loc[:, 'gender'] = df3['gender'].map( self.target_encode_gender_scaler )\n",
    "\n",
    "        # region_code - Target Encoding\n",
    "        df3.loc[:, 'region_code'] = df3['region_code'].map( self.target_encode_region_code_scaler )\n",
    "\n",
    "        # vehicle_age - One Hot Encoding\n",
    "        df3 = pd.get_dummies( df3, prefix='vehicle_age', columns=['vehicle_age'] )\n",
    "\n",
    "        # policy_sales_channel - Frequency Encoding\n",
    "        df3.loc[:,'policy_sales_channel'] = df3['policy_sales_channel'].map( self.fe_policy_sales_channel_scaler )\n",
    "        \n",
    "        # Feature Selection\n",
    "        cols_selected = ['annual_premium', 'vintage', 'age', 'region_code', 'vehicle_damage', 'previously_insured',\n",
    "                         'policy_sales_channel']\n",
    "        \n",
    "        return df3[ cols_selected ]\n",
    "    \n",
    "    \n",
    "    def get_prediction( self, model, original_data, test_data ):\n",
    "        \n",
    "        # model prediction\n",
    "        pred = model.predict_proba( test_data )\n",
    "        \n",
    "        # join prediction into original data\n",
    "        original_data['score'] = pred[:,1].tolist()\n",
    "                \n",
    "        return original_data.to_json( orient='records', date_format='iso' )\n",
    "        "
   ]
  },
  {
   "cell_type": "markdown",
   "id": "e175f308",
   "metadata": {
    "heading_collapsed": true
   },
   "source": [
    "## 10.2 API Handler"
   ]
  },
  {
   "cell_type": "code",
   "execution_count": null,
   "id": "695a14f3",
   "metadata": {
    "ExecuteTime": {
     "end_time": "2022-02-06T16:35:31.975238Z",
     "start_time": "2022-02-06T16:34:49.303Z"
    },
    "hidden": true
   },
   "outputs": [],
   "source": [
    "import pickle\n",
    "import pandas as pd\n",
    "from flask import Flask, request, Response\n",
    "from healthinsurance.HealthInsurance import HealthInsurance\n",
    "\n",
    "# loading model\n",
    "path = '/home/felipe_rastelli/repositorios/pa004_health_insurance_cross_sell/health_insurance_cross-sell/'\n",
    "model = pickle.load( open( path + 'src/model/model_health_insurance_final.pkl', 'rb' ) )\n",
    "\n",
    "# initialize API\n",
    "app = Flask( __name__ )\n",
    "\n",
    "@app.route( '/predict', methods=['POST'] )\n",
    "def healthinsurance_predict():\n",
    "    test_json = request.get_json()\n",
    "    \n",
    "    if test_json: # there is data\n",
    "        if isinstance( test_json, dict ): # unique example\n",
    "            test_raw = pd.DataFrame( test_json, index=[0] )\n",
    "            \n",
    "        else: # multiple example\n",
    "            test_raw = pd.DataFrame( test_json, columns=test_json[0].keys() )\n",
    "            \n",
    "        # Instantiate Rossmann class\n",
    "        pipeline = HealthInsurance()\n",
    "        \n",
    "        # data cleaning\n",
    "        df1 = pipeline.data_cleaning( test_raw )\n",
    "        \n",
    "        # feature engineering\n",
    "        df2 = pipeline.feature_engineering( df1 )\n",
    "        \n",
    "        # data preparation\n",
    "        df3 = pipeline.data_preparation( df2 )\n",
    "        \n",
    "        # prediction\n",
    "        df_response = pipeline.get_prediction( model, test_raw, df3 )\n",
    "        \n",
    "        return df_response\n",
    "    \n",
    "    else:\n",
    "        return Response( '{}', status=200, mimetype='application/json' )\n",
    "    \n",
    "if __name__ == '__main__':\n",
    "    app.run( '0.0.0.0', debug=True )"
   ]
  },
  {
   "cell_type": "code",
   "execution_count": null,
   "id": "b3d3fb68",
   "metadata": {
    "ExecuteTime": {
     "end_time": "2022-02-05T13:48:36.285005Z",
     "start_time": "2022-02-05T13:48:36.265326Z"
    },
    "hidden": true
   },
   "outputs": [],
   "source": []
  },
  {
   "cell_type": "markdown",
   "id": "db19e90c",
   "metadata": {},
   "source": [
    "## 10.3 API Tester"
   ]
  },
  {
   "cell_type": "code",
   "execution_count": 167,
   "id": "8b8c5f3c",
   "metadata": {
    "ExecuteTime": {
     "end_time": "2022-02-07T12:10:17.453210Z",
     "start_time": "2022-02-07T12:10:17.447229Z"
    }
   },
   "outputs": [],
   "source": [
    "# loading test dataset\n",
    "df_api = df_prod.copy()"
   ]
  },
  {
   "cell_type": "code",
   "execution_count": 168,
   "id": "2d55eda9",
   "metadata": {
    "ExecuteTime": {
     "end_time": "2022-02-07T12:10:20.649955Z",
     "start_time": "2022-02-07T12:10:18.646169Z"
    },
    "code_folding": []
   },
   "outputs": [],
   "source": [
    "# convert dataframe to json\n",
    "data = json.dumps( df_api.to_dict( orient='records' ) )"
   ]
  },
  {
   "cell_type": "code",
   "execution_count": 169,
   "id": "4fae66ed",
   "metadata": {
    "ExecuteTime": {
     "end_time": "2022-02-07T12:10:40.896766Z",
     "start_time": "2022-02-07T12:10:20.651997Z"
    }
   },
   "outputs": [
    {
     "name": "stdout",
     "output_type": "stream",
     "text": [
      "Status Code 200\n"
     ]
    }
   ],
   "source": [
    "# API Call\n",
    "# url = 'http://0.0.0.0:5000/predict'\n",
    "url = 'https://health-insurance-fr.herokuapp.com/predict'\n",
    "header = {'Content-type': 'application/json' }\n",
    "\n",
    "r = requests.post( url, data=data, headers=header )\n",
    "print( 'Status Code {}'.format( r.status_code ) )"
   ]
  },
  {
   "cell_type": "code",
   "execution_count": 170,
   "id": "4ed60acc",
   "metadata": {
    "ExecuteTime": {
     "end_time": "2022-02-07T12:10:42.425258Z",
     "start_time": "2022-02-07T12:10:40.900163Z"
    }
   },
   "outputs": [
    {
     "data": {
      "text/html": [
       "<div>\n",
       "<style scoped>\n",
       "    .dataframe tbody tr th:only-of-type {\n",
       "        vertical-align: middle;\n",
       "    }\n",
       "\n",
       "    .dataframe tbody tr th {\n",
       "        vertical-align: top;\n",
       "    }\n",
       "\n",
       "    .dataframe thead th {\n",
       "        text-align: right;\n",
       "    }\n",
       "</style>\n",
       "<table border=\"1\" class=\"dataframe\">\n",
       "  <thead>\n",
       "    <tr style=\"text-align: right;\">\n",
       "      <th></th>\n",
       "      <th>id</th>\n",
       "      <th>Gender</th>\n",
       "      <th>Age</th>\n",
       "      <th>Driving_License</th>\n",
       "      <th>Region_Code</th>\n",
       "      <th>Previously_Insured</th>\n",
       "      <th>Vehicle_Age</th>\n",
       "      <th>Vehicle_Damage</th>\n",
       "      <th>Annual_Premium</th>\n",
       "      <th>Policy_Sales_Channel</th>\n",
       "      <th>Vintage</th>\n",
       "      <th>score</th>\n",
       "    </tr>\n",
       "  </thead>\n",
       "  <tbody>\n",
       "    <tr>\n",
       "      <th>93331</th>\n",
       "      <td>474441</td>\n",
       "      <td>Male</td>\n",
       "      <td>33</td>\n",
       "      <td>1</td>\n",
       "      <td>41.0</td>\n",
       "      <td>0</td>\n",
       "      <td>&lt; 1 Year</td>\n",
       "      <td>Yes</td>\n",
       "      <td>20153.0</td>\n",
       "      <td>155.0</td>\n",
       "      <td>58</td>\n",
       "      <td>0.607350</td>\n",
       "    </tr>\n",
       "    <tr>\n",
       "      <th>4103</th>\n",
       "      <td>385213</td>\n",
       "      <td>Female</td>\n",
       "      <td>30</td>\n",
       "      <td>1</td>\n",
       "      <td>41.0</td>\n",
       "      <td>0</td>\n",
       "      <td>1-2 Year</td>\n",
       "      <td>Yes</td>\n",
       "      <td>32660.0</td>\n",
       "      <td>155.0</td>\n",
       "      <td>102</td>\n",
       "      <td>0.599226</td>\n",
       "    </tr>\n",
       "    <tr>\n",
       "      <th>2812</th>\n",
       "      <td>383922</td>\n",
       "      <td>Male</td>\n",
       "      <td>34</td>\n",
       "      <td>1</td>\n",
       "      <td>3.0</td>\n",
       "      <td>0</td>\n",
       "      <td>1-2 Year</td>\n",
       "      <td>Yes</td>\n",
       "      <td>22828.0</td>\n",
       "      <td>155.0</td>\n",
       "      <td>141</td>\n",
       "      <td>0.585263</td>\n",
       "    </tr>\n",
       "    <tr>\n",
       "      <th>2557</th>\n",
       "      <td>383667</td>\n",
       "      <td>Female</td>\n",
       "      <td>33</td>\n",
       "      <td>1</td>\n",
       "      <td>41.0</td>\n",
       "      <td>0</td>\n",
       "      <td>1-2 Year</td>\n",
       "      <td>Yes</td>\n",
       "      <td>31657.0</td>\n",
       "      <td>155.0</td>\n",
       "      <td>132</td>\n",
       "      <td>0.579828</td>\n",
       "    </tr>\n",
       "    <tr>\n",
       "      <th>47196</th>\n",
       "      <td>428306</td>\n",
       "      <td>Female</td>\n",
       "      <td>33</td>\n",
       "      <td>1</td>\n",
       "      <td>3.0</td>\n",
       "      <td>0</td>\n",
       "      <td>1-2 Year</td>\n",
       "      <td>Yes</td>\n",
       "      <td>29617.0</td>\n",
       "      <td>155.0</td>\n",
       "      <td>130</td>\n",
       "      <td>0.579231</td>\n",
       "    </tr>\n",
       "  </tbody>\n",
       "</table>\n",
       "</div>"
      ],
      "text/plain": [
       "           id  Gender  Age  Driving_License  Region_Code  Previously_Insured Vehicle_Age Vehicle_Damage  Annual_Premium  Policy_Sales_Channel  Vintage     score\n",
       "93331  474441    Male   33                1         41.0                   0    < 1 Year            Yes         20153.0                 155.0       58  0.607350\n",
       "4103   385213  Female   30                1         41.0                   0    1-2 Year            Yes         32660.0                 155.0      102  0.599226\n",
       "2812   383922    Male   34                1          3.0                   0    1-2 Year            Yes         22828.0                 155.0      141  0.585263\n",
       "2557   383667  Female   33                1         41.0                   0    1-2 Year            Yes         31657.0                 155.0      132  0.579828\n",
       "47196  428306  Female   33                1          3.0                   0    1-2 Year            Yes         29617.0                 155.0      130  0.579231"
      ]
     },
     "execution_count": 170,
     "metadata": {},
     "output_type": "execute_result"
    }
   ],
   "source": [
    "d1 = pd.DataFrame( r.json(), columns=r.json()[0].keys() )\n",
    "d1.sort_values( 'score', ascending=False ).head()"
   ]
  },
  {
   "cell_type": "markdown",
   "id": "7030306b",
   "metadata": {
    "heading_collapsed": true
   },
   "source": [
    "## 10.4 Google Sheets App - Script"
   ]
  },
  {
   "cell_type": "code",
   "execution_count": null,
   "id": "b82d444b",
   "metadata": {
    "ExecuteTime": {
     "end_time": "2022-02-06T16:35:31.985290Z",
     "start_time": "2022-02-06T16:34:49.334Z"
    },
    "hidden": true
   },
   "outputs": [],
   "source": [
    "// PA004 Health Insurance Cross-sell\n",
    "function onOpen() {\n",
    "  var ui = SpreadsheetApp.getUi();\n",
    "  ui.createMenu( 'Health Insurance Prediction' )\n",
    "    .addItem(  'Get Prediction','PredictAll')\n",
    "    .addToUi();\n",
    "}\n",
    "\n",
    "// Production Server\n",
    "host_production = 'health-insurance-fr.herokuapp.com'\n",
    "\n",
    "// ----------------------------\n",
    "// ----- Helper Function ------\n",
    "// ----------------------------\n",
    "\n",
    "// API Call\n",
    "function ApiCall( data, endpoint ){\n",
    "  var url = 'https://' + host_production + endpoint;\n",
    "  var payload = JSON.stringify( data );\n",
    "\n",
    "  var options = {'method': 'POST', 'contentType': 'application/json', 'payload': payload};\n",
    "\n",
    "  Logger.log( url )\n",
    "  Logger.log( options )\n",
    "\n",
    "  var response = UrlFetchApp.fetch( url, options );\n",
    "\n",
    "  // get response\n",
    "  var rc = response.getResponseCode();\n",
    "  var responseText = response.getContentText();\n",
    "\n",
    "  if ( rc !== 200 ){\n",
    "    Logger.log( 'Response (%s) %s', rc, responseText );\n",
    "  }\n",
    "  else{\n",
    "    prediction = JSON.parse( responseText );\n",
    "  }\n",
    "  return prediction\n",
    "};\n",
    "\n",
    "// Health Insurance Propensity Score Prediction\n",
    "\n",
    "function PredictAll(){\n",
    "  //google sheets parameters\n",
    "  var ss = SpreadsheetApp.getActiveSheet();\n",
    "  var titleColumns = ss.getRange( 'A1:K1' ).getValues()[0];\n",
    "  var lastRow = ss.getLastRow();\n",
    "  \n",
    "  var data = ss.getRange( 'A2' + ':' + 'K' + lastRow ).getValues();\n",
    "\n",
    "  // run over all rows\n",
    "  for ( row in data ){\n",
    "    var json = new Object();\n",
    "\n",
    "    // run over all columns\n",
    "    for( var j=0; j < titleColumns.length; j++ ){\n",
    "      json[titleColumns[j]] = data[row][j];\n",
    "    };\n",
    "\n",
    "    // Json file to send\n",
    "    var json_send = new Object();\n",
    "    json_send['id'] = json['id']\n",
    "    json_send['gender'] = json['gender']\n",
    "    json_send['age'] =  json['age']\n",
    "    json_send['driving_license'] = json['driving_license']\n",
    "    json_send['region_code'] = json['region_code']\n",
    "    json_send['previously_insured'] = json['previously_insured']\n",
    "    json_send['vehicle_age'] = json['vehicle_age']\n",
    "    json_send['vehicle_damage'] = json['vehicle_damage']\n",
    "    json_send['annual_premium'] = json['annual_premium']\n",
    "    json_send['policy_sales_channel'] = json['policy_sales_channel']\n",
    "    json_send['vintage'] = json['vintage']\n",
    "       \n",
    "    Logger.log( json_send);\n",
    "   \n",
    "    // Propensity score\n",
    "    pred = ApiCall( json_send, '/predict' );\n",
    "\n",
    "    // Send back to google sheets\n",
    "    ss.getRange( Number( row ) + 2 , 12 ).setValue( pred[0]['score'] )\n",
    "    Logger.log( pred[0]['score'] )\n",
    "\n",
    "  };\n",
    "};"
   ]
  }
 ],
 "metadata": {
  "kernelspec": {
   "display_name": "Python 3",
   "language": "python",
   "name": "python3"
  },
  "language_info": {
   "codemirror_mode": {
    "name": "ipython",
    "version": 3
   },
   "file_extension": ".py",
   "mimetype": "text/x-python",
   "name": "python",
   "nbconvert_exporter": "python",
   "pygments_lexer": "ipython3",
   "version": "3.8.8"
  },
  "varInspector": {
   "cols": {
    "lenName": 16,
    "lenType": 16,
    "lenVar": 40
   },
   "kernels_config": {
    "python": {
     "delete_cmd_postfix": "",
     "delete_cmd_prefix": "del ",
     "library": "var_list.py",
     "varRefreshCmd": "print(var_dic_list())"
    },
    "r": {
     "delete_cmd_postfix": ") ",
     "delete_cmd_prefix": "rm(",
     "library": "var_list.r",
     "varRefreshCmd": "cat(var_dic_list()) "
    }
   },
   "types_to_exclude": [
    "module",
    "function",
    "builtin_function_or_method",
    "instance",
    "_Feature"
   ],
   "window_display": false
  }
 },
 "nbformat": 4,
 "nbformat_minor": 5
}
